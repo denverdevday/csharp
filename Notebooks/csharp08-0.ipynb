{
 "cells": [
  {
   "attachments": {},
   "cell_type": "markdown",
   "metadata": {},
   "source": [
    "C# 8 **readonly members**"
   ]
  },
  {
   "cell_type": "code",
   "execution_count": 6,
   "metadata": {
    "dotnet_interactive": {
     "language": "csharp"
    },
    "polyglot_notebook": {
     "kernelName": "csharp"
    }
   },
   "outputs": [],
   "source": []
  },
  {
   "cell_type": "code",
   "execution_count": 19,
   "metadata": {
    "dotnet_interactive": {
     "language": "csharp"
    },
    "polyglot_notebook": {
     "kernelName": "csharp"
    }
   },
   "outputs": [],
   "source": [
    "// original\n",
    "\n",
    "public struct Worker\n",
    "{\n",
    "\tint data;\n",
    "\n",
    "    public void Mutate()\n",
    "    {\n",
    "        data = data + 1;\n",
    "    }\n",
    "}\n",
    "\n",
    "new Worker().Mutate();"
   ]
  },
  {
   "cell_type": "code",
   "execution_count": 22,
   "metadata": {
    "dotnet_interactive": {
     "language": "csharp"
    },
    "polyglot_notebook": {
     "kernelName": "csharp"
    }
   },
   "outputs": [
    {
     "ename": "Error",
     "evalue": "(9,9): error CS1604: Cannot assign to 'data' because it is read-only",
     "output_type": "error",
     "traceback": [
      "(9,9): error CS1604: Cannot assign to 'data' because it is read-only"
     ]
    }
   ],
   "source": [
    "// readonly intent\n",
    "\n",
    "public struct Worker\n",
    "{\n",
    "\tint data;\n",
    "\n",
    "    public readonly void Mutate()\n",
    "    {\n",
    "        data = data + 1; // error\n",
    "    }\n",
    "}\n",
    "\n",
    "new Worker().Mutate();"
   ]
  },
  {
   "attachments": {},
   "cell_type": "markdown",
   "metadata": {},
   "source": [
    "C# 8 **Default interface method**"
   ]
  },
  {
   "cell_type": "code",
   "execution_count": 40,
   "metadata": {
    "dotnet_interactive": {
     "language": "csharp"
    },
    "polyglot_notebook": {
     "kernelName": "csharp"
    }
   },
   "outputs": [
    {
     "data": {
      "text/html": [
       "<div class=\"dni-plaintext\"><pre>2013</pre></div><style>\r\n",
       ".dni-code-hint {\r\n",
       "    font-style: italic;\r\n",
       "    overflow: hidden;\r\n",
       "    white-space: nowrap;\r\n",
       "}\r\n",
       ".dni-treeview {\r\n",
       "    white-space: nowrap;\r\n",
       "}\r\n",
       ".dni-treeview td {\r\n",
       "    vertical-align: top;\r\n",
       "    text-align: start;\r\n",
       "}\r\n",
       "details.dni-treeview {\r\n",
       "    padding-left: 1em;\r\n",
       "}\r\n",
       "table td {\r\n",
       "    text-align: start;\r\n",
       "}\r\n",
       "table tr { \r\n",
       "    vertical-align: top; \r\n",
       "    margin: 0em 0px;\r\n",
       "}\r\n",
       "table tr td pre \r\n",
       "{ \r\n",
       "    vertical-align: top !important; \r\n",
       "    margin: 0em 0px !important;\r\n",
       "} \r\n",
       "table th {\r\n",
       "    text-align: start;\r\n",
       "}\r\n",
       "</style>"
      ]
     },
     "metadata": {},
     "output_type": "display_data"
    }
   ],
   "source": [
    "// original\n",
    "\n",
    "interface IAnimal\n",
    "{\n",
    "\tint Age { get; set; }\n",
    "}\n",
    "\n",
    "interface IAnimal2 : IAnimal\n",
    "{\n",
    "\tint Birth();\n",
    "}\n",
    "\n",
    "public abstract class Animal : IAnimal2\n",
    "{\n",
    "\tpublic int Age { get; set; } = 10;\n",
    "\tpublic int Birth() => DateTime.Now.Year - Age;\n",
    "}\n",
    "\n",
    "public class Fish : Animal { }\n",
    "var f = new Fish();\n",
    "f.Birth().Display();"
   ]
  },
  {
   "cell_type": "code",
   "execution_count": 42,
   "metadata": {
    "dotnet_interactive": {
     "language": "csharp"
    },
    "polyglot_notebook": {
     "kernelName": "csharp"
    }
   },
   "outputs": [
    {
     "data": {
      "text/html": [
       "<div class=\"dni-plaintext\"><pre>2013</pre></div><style>\r\n",
       ".dni-code-hint {\r\n",
       "    font-style: italic;\r\n",
       "    overflow: hidden;\r\n",
       "    white-space: nowrap;\r\n",
       "}\r\n",
       ".dni-treeview {\r\n",
       "    white-space: nowrap;\r\n",
       "}\r\n",
       ".dni-treeview td {\r\n",
       "    vertical-align: top;\r\n",
       "    text-align: start;\r\n",
       "}\r\n",
       "details.dni-treeview {\r\n",
       "    padding-left: 1em;\r\n",
       "}\r\n",
       "table td {\r\n",
       "    text-align: start;\r\n",
       "}\r\n",
       "table tr { \r\n",
       "    vertical-align: top; \r\n",
       "    margin: 0em 0px;\r\n",
       "}\r\n",
       "table tr td pre \r\n",
       "{ \r\n",
       "    vertical-align: top !important; \r\n",
       "    margin: 0em 0px !important;\r\n",
       "} \r\n",
       "table th {\r\n",
       "    text-align: start;\r\n",
       "}\r\n",
       "</style>"
      ]
     },
     "metadata": {},
     "output_type": "display_data"
    }
   ],
   "source": [
    "// default methods\n",
    "\n",
    "interface IAnimal\n",
    "{\n",
    "\tint Age { get; set; }\n",
    "\tint Birth() => DateTime.Now.Year - Age;\n",
    "}\n",
    "\n",
    "public abstract class Animal : IAnimal\n",
    "{\n",
    "\tpublic int Age { get; set; } = 10;\n",
    "}\n",
    "\n",
    "public class Fish : Animal { }\n",
    "var f = new Fish() as IAnimal;\n",
    "f.Birth().Display();"
   ]
  },
  {
   "attachments": {},
   "cell_type": "markdown",
   "metadata": {},
   "source": [
    "C# 8 **Switch expression**"
   ]
  },
  {
   "cell_type": "code",
   "execution_count": 49,
   "metadata": {
    "dotnet_interactive": {
     "language": "csharp"
    },
    "polyglot_notebook": {
     "kernelName": "csharp"
    }
   },
   "outputs": [
    {
     "name": "stdout",
     "output_type": "stream",
     "text": [
      "↓\r\n"
     ]
    }
   ],
   "source": [
    "// switch case statements\n",
    "\n",
    "enum Vertical { Up, Down }\n",
    "\n",
    "var direction = Vertical.Down;\n",
    "\n",
    "char character;\n",
    "\n",
    "switch (direction)\n",
    "{\n",
    "    case Vertical.Up:\n",
    "        character = '\\u2191';\n",
    "        break;\n",
    "    case Vertical.Down:\n",
    "        character = '\\u2193';    \n",
    "        break;\n",
    "}\n",
    "\n",
    "Console.WriteLine(character);  // Output: ↓"
   ]
  },
  {
   "cell_type": "code",
   "execution_count": null,
   "metadata": {
    "dotnet_interactive": {
     "language": "csharp"
    },
    "polyglot_notebook": {
     "kernelName": "csharp"
    }
   },
   "outputs": [],
   "source": [
    "// switch expressions\n",
    "\n",
    "enum Vertical { Up, Down }\n",
    "\n",
    "var direction = Vertical.Down;\n",
    "\n",
    "char character = direction switch\n",
    "{\n",
    "    Vertical.Up => '\\u2191',\n",
    "    Vertical.Down => '\\u2193',\n",
    "    _ => throw new Exception()\n",
    "};\n",
    "Console.WriteLine(character);  // Output: ↓"
   ]
  },
  {
   "attachments": {},
   "cell_type": "markdown",
   "metadata": {},
   "source": [
    "C# 8 **Property matching**"
   ]
  },
  {
   "cell_type": "code",
   "execution_count": 3,
   "metadata": {
    "dotnet_interactive": {
     "language": "csharp"
    },
    "polyglot_notebook": {
     "kernelName": "csharp"
    }
   },
   "outputs": [
    {
     "name": "stdout",
     "output_type": "stream",
     "text": [
      "True\n",
      "Yes\n",
      "True\n"
     ]
    }
   ],
   "source": [
    "// original\n",
    "var day = DateTime.Now;\n",
    "\n",
    "var today1 = day.Year == 2023 && day.Month == 6;\n",
    "\n",
    "var today2 = day switch\n",
    "{\n",
    "\tvar d when d.Year == 2023 \n",
    "\t\t&& d.Month == 6 => \"Yes\",\n",
    "\t_ => \"No\"\n",
    "};\n",
    "\n",
    "var today3 = false;\n",
    "if (day.Year == 2023 && day.Month == 6)\n",
    "{\n",
    "\ttoday3 = true;\n",
    "}\n",
    "\n",
    "Console.WriteLine(today1); // True\n",
    "Console.WriteLine(today2); // Yes\n",
    "Console.WriteLine(today3); // False"
   ]
  },
  {
   "cell_type": "code",
   "execution_count": 4,
   "metadata": {
    "dotnet_interactive": {
     "language": "csharp"
    },
    "polyglot_notebook": {
     "kernelName": "csharp"
    }
   },
   "outputs": [
    {
     "name": "stdout",
     "output_type": "stream",
     "text": [
      "True\n",
      "Yes\n",
      "False\n"
     ]
    }
   ],
   "source": [
    "// property matching\n",
    "var day = DateTime.Now;\n",
    "\n",
    "var today1 = day is { Year: 2023, Month: 6 };\n",
    "\n",
    "var today2 = day switch \n",
    "{\n",
    "\t{ Year: 2023, Month: 6 } => \"Yes\",\n",
    "\t_ => \"No\"\n",
    "};\n",
    "\n",
    "var today3 = false;\n",
    "if (day is { Year: 2023, Month: 6 })\n",
    "{\n",
    "\ttoday3 = true;\n",
    "}\n",
    "\n",
    "Console.WriteLine(today1); // True\n",
    "Console.WriteLine(today2); // Yes\n",
    "Console.WriteLine(today3); // False"
   ]
  },
  {
   "attachments": {},
   "cell_type": "markdown",
   "metadata": {},
   "source": [
    "C# 8 **Positional matching**"
   ]
  },
  {
   "cell_type": "code",
   "execution_count": 12,
   "metadata": {
    "dotnet_interactive": {
     "language": "csharp"
    },
    "polyglot_notebook": {
     "kernelName": "csharp"
    }
   },
   "outputs": [
    {
     "name": "stdout",
     "output_type": "stream",
     "text": [
      "Yes\n",
      "Yes\n"
     ]
    }
   ],
   "source": [
    "// orignial\n",
    "\n",
    "var t = (1, 2, 3, 4);\n",
    "\n",
    "if (t.Item1 == 1 && t.Item2 == 2 && t.Item3 != null)\n",
    "{\n",
    "    Console.WriteLine(\"Yes\");\n",
    "}\n",
    "\n",
    "if (t.Item1 == 1 && t.Item3 == 3)\n",
    "{\n",
    "    Console.WriteLine(\"Yes\");\n",
    "}\n"
   ]
  },
  {
   "cell_type": "code",
   "execution_count": 14,
   "metadata": {
    "dotnet_interactive": {
     "language": "csharp"
    },
    "polyglot_notebook": {
     "kernelName": "csharp"
    }
   },
   "outputs": [
    {
     "name": "stdout",
     "output_type": "stream",
     "text": [
      "Yes\n",
      "Yes\n"
     ]
    }
   ],
   "source": [
    "// Positional matching\n",
    "\n",
    "var t = (1, 2, 3, 4);\n",
    "\n",
    "if (t is (1, 2, 3, _))\n",
    "{\n",
    "\tConsole.WriteLine(\"Yes\");\n",
    "}\n",
    "\n",
    "if (t is (1, _, 3, _))\n",
    "{\n",
    "\tConsole.WriteLine(\"Yes\");\n",
    "}\n",
    "\n",
    "if (t is not (1, _, 3, _))\n",
    "{\n",
    "\tConsole.WriteLine(\"No\");\n",
    "}"
   ]
  },
  {
   "attachments": {},
   "cell_type": "markdown",
   "metadata": {},
   "source": [
    "C# 8 **Tuple matching**"
   ]
  },
  {
   "cell_type": "code",
   "execution_count": 66,
   "metadata": {
    "dotnet_interactive": {
     "language": "csharp"
    },
    "polyglot_notebook": {
     "kernelName": "csharp"
    }
   },
   "outputs": [
    {
     "data": {
      "text/plain": [
       "Tim = no, Valley = no"
      ]
     },
     "metadata": {},
     "output_type": "display_data"
    }
   ],
   "source": [
    "// original\n",
    "\n",
    "var t = (\"Jeremy\", \"Waters\");\n",
    "\n",
    "string m = null;\n",
    "\n",
    "if (t.Item1 == \"Tim\" && t.Item2 != \"Valley\")\n",
    "    m = \"Tim = yes, Valley = no\";\n",
    "\n",
    "else if (t.Item1 != \"Tim\" && t.Item2 == \"Valley\")\n",
    "    m = \"Tim = no, Valley = yes\";\n",
    "\n",
    "else if (t.Item1 != \"Tim\" && t.Item2 != \"Valley\")\n",
    "    m = \"Tim = no, Valley = no\";\n",
    "    \n",
    "else if (t.Item1 == \"Tim\" && t.Item2 == \"Valley\")\n",
    "    m = \"Tim = no, Valley = no\";\n",
    "\n",
    "m.Display(); // Tim = no, Valley = no\n"
   ]
  },
  {
   "cell_type": "code",
   "execution_count": 63,
   "metadata": {
    "dotnet_interactive": {
     "language": "csharp"
    },
    "polyglot_notebook": {
     "kernelName": "csharp"
    }
   },
   "outputs": [
    {
     "data": {
      "text/plain": [
       "Tim = no, Valley = no"
      ]
     },
     "metadata": {},
     "output_type": "display_data"
    }
   ],
   "source": [
    "// tuple matching\n",
    "\n",
    "var t = (\"Jeremy\", \"Waters\");\n",
    "\n",
    "var m = t switch\n",
    "{\n",
    "\t(\"Tim\", _) and not (_, \"Valley\") \n",
    "\t\t=> \"Tim = yes, Valley = no\",\n",
    "\n",
    "\tnot (\"Tim\", _) and (_, \"Valley\") \n",
    "\t\t=> \"Tim = no, Valley = yes\",\n",
    "\n",
    "\tnot (\"Tim\", _) and not (_, \"Valley\") \n",
    "\t\t=> \"Tim = no, Valley = no\",\n",
    "\t\t\n",
    "\t(\"Tim\", \"Valley\") => \"Tim = no, Valley = no\",\n",
    "};\n",
    "\n",
    "m.Display(); // First and last"
   ]
  },
  {
   "attachments": {},
   "cell_type": "markdown",
   "metadata": {},
   "source": [
    "C# 8 **Using directives**"
   ]
  },
  {
   "cell_type": "code",
   "execution_count": 71,
   "metadata": {
    "dotnet_interactive": {
     "language": "csharp"
    },
    "polyglot_notebook": {
     "kernelName": "csharp"
    }
   },
   "outputs": [],
   "source": [
    "// try/finally\n",
    "var conn = new Connection();\n",
    "try { conn.Open(); }\n",
    "finally { conn.Close(); } \n",
    "\n",
    "// using\n",
    "void Do()\n",
    "{\n",
    "\tusing (var conn = new Connection())\n",
    "\t{\n",
    "\t\tconn.Open();\n",
    "\t}\n",
    "}\n",
    "\n",
    "class Connection : IDisposable\n",
    "{\n",
    "\tpublic void Open() { /* TODO */ }\n",
    "\tpublic void Close() { /* TODO */ }\n",
    "\tpublic void Dispose() => Close();\n",
    "}"
   ]
  },
  {
   "cell_type": "code",
   "execution_count": 72,
   "metadata": {
    "dotnet_interactive": {
     "language": "csharp"
    },
    "polyglot_notebook": {
     "kernelName": "csharp"
    }
   },
   "outputs": [],
   "source": [
    "// try/finally\n",
    "var conn = new Connection();\n",
    "try { conn.Open(); }\n",
    "finally { conn.Close(); } \n",
    "\n",
    "// using\n",
    "void Do()\n",
    "{\n",
    "\tusing var conn2 = new Connection();\n",
    "\tconn2.Open();\n",
    "}\n",
    "\n",
    "class Connection : IDisposable\n",
    "{\n",
    "\tpublic void Open() { /* TODO */ }\n",
    "\tpublic void Close() { /* TODO */ }\n",
    "\tpublic void Dispose() => Close();\n",
    "}"
   ]
  },
  {
   "attachments": {},
   "cell_type": "markdown",
   "metadata": {},
   "source": [
    "C# 8 **Static local functions**"
   ]
  },
  {
   "cell_type": "code",
   "execution_count": null,
   "metadata": {
    "dotnet_interactive": {
     "language": "csharp"
    },
    "polyglot_notebook": {
     "kernelName": "csharp"
    }
   },
   "outputs": [],
   "source": [
    "// original\n",
    "\n",
    "double Divide(double divisor, double dividend)\n",
    "{\n",
    "\tValidateDividend(dividend);\n",
    "\t\n",
    "\treturn divisor / dividend;\n",
    "\n",
    "\tvoid ValidateDividend(double dividend)\n",
    "\t{\n",
    "\t\tif (dividend == 0)\n",
    "\t\t{\n",
    "\t\t\tthrow new Exception();\n",
    "\t\t}\n",
    "\t}\n",
    "}"
   ]
  },
  {
   "cell_type": "code",
   "execution_count": 73,
   "metadata": {
    "dotnet_interactive": {
     "language": "csharp"
    },
    "polyglot_notebook": {
     "kernelName": "csharp"
    }
   },
   "outputs": [],
   "source": [
    "// static local method\n",
    "\n",
    "double Divide(double divisor, double dividend)\n",
    "{\n",
    "\tValidateDividend(dividend);\n",
    "\t\n",
    "\treturn divisor / dividend;\n",
    "\n",
    "\tstatic void ValidateDividend(double dividend)\n",
    "\t{\n",
    "\t\tif (dividend == 0)\n",
    "\t\t{\n",
    "\t\t\tthrow new Exception();\n",
    "\t\t}\n",
    "\t}\n",
    "}"
   ]
  },
  {
   "attachments": {},
   "cell_type": "markdown",
   "metadata": {},
   "source": [
    "C# 8 **Disposable ref structs**"
   ]
  },
  {
   "cell_type": "code",
   "execution_count": null,
   "metadata": {
    "dotnet_interactive": {
     "language": "csharp"
    },
    "polyglot_notebook": {
     "kernelName": "csharp"
    }
   },
   "outputs": [],
   "source": [
    "// Error CS8343: ref structs cannot implement interfaces\n",
    "\n",
    "ref struct Book : IDisposable // error\n",
    "{\n",
    "   public void Dispose()\n",
    "   {\n",
    "   }\n",
    "}"
   ]
  },
  {
   "cell_type": "code",
   "execution_count": null,
   "metadata": {
    "dotnet_interactive": {
     "language": "csharp"
    },
    "polyglot_notebook": {
     "kernelName": "csharp"
    }
   },
   "outputs": [],
   "source": [
    "// explicit cleanup (deterministic finalization)\n",
    "\n",
    "ref struct Book\n",
    "{\n",
    "   public void Dispose()\n",
    "   {\n",
    "   }\n",
    "}\n",
    "\n",
    "public void Do()\n",
    "{\n",
    "\tusing var book = new Book();\n",
    "\t// TODO\n",
    "}"
   ]
  },
  {
   "attachments": {},
   "cell_type": "markdown",
   "metadata": {},
   "source": [
    "C# 8 **Nullable reference types**"
   ]
  },
  {
   "cell_type": "code",
   "execution_count": 74,
   "metadata": {
    "dotnet_interactive": {
     "language": "csharp"
    },
    "polyglot_notebook": {
     "kernelName": "csharp"
    }
   },
   "outputs": [],
   "source": [
    "// original (NullReferenceException)\n",
    "\n",
    "void Do(string message)\n",
    "{\n",
    "\tvar value = message.ToLower(); // runtime error\n",
    "\tConsole.WriteLine(value); \n",
    "}"
   ]
  },
  {
   "cell_type": "code",
   "execution_count": null,
   "metadata": {
    "dotnet_interactive": {
     "language": "csharp"
    },
    "polyglot_notebook": {
     "kernelName": "csharp"
    }
   },
   "outputs": [],
   "source": [
    "// original \n",
    "\n",
    "#nullable enable\n",
    "\n",
    "public class User\n",
    "{\n",
    "\tpublic string _name; // static warning\n",
    "}"
   ]
  },
  {
   "cell_type": "code",
   "execution_count": 172,
   "metadata": {
    "dotnet_interactive": {
     "language": "csharp"
    },
    "polyglot_notebook": {
     "kernelName": "csharp"
    }
   },
   "outputs": [],
   "source": [
    "// set in constructor\n",
    "\n",
    "#nullable enable\n",
    "\n",
    "public class User\n",
    "{\n",
    "\tpublic string _name;\n",
    "\n",
    "\tpublic User()\n",
    "\t{\n",
    "\t\t_name = string.Empty;\n",
    "\t}\n",
    "}"
   ]
  },
  {
   "cell_type": "code",
   "execution_count": 171,
   "metadata": {
    "dotnet_interactive": {
     "language": "csharp"
    },
    "polyglot_notebook": {
     "kernelName": "csharp"
    }
   },
   "outputs": [],
   "source": [
    "// original \n",
    "\n",
    "#nullable enable\n",
    "\n",
    "public class User\n",
    "{\n",
    "\tpublic string _name;\n",
    "\n",
    "\tpublic User() // static warning\n",
    "\t{\n",
    "\t\tDefaultValues();\n",
    "\t}\n",
    "\n",
    "\tpublic void DefaultValues() \n",
    "\t{\n",
    "\t\t_name = string.Empty;\n",
    "\t}\n",
    "}"
   ]
  },
  {
   "cell_type": "code",
   "execution_count": 92,
   "metadata": {
    "dotnet_interactive": {
     "language": "csharp"
    },
    "polyglot_notebook": {
     "kernelName": "csharp"
    }
   },
   "outputs": [],
   "source": [
    "// MemberNotNull\n",
    "\n",
    "#nullable enable\n",
    "\n",
    "using System.Diagnostics.CodeAnalysis;\n",
    "\n",
    "public class User\n",
    "{\n",
    "\tpublic string _name;\n",
    "\n",
    "\tpublic User() => DefaultValues();\n",
    "\n",
    "\t[MemberNotNull(nameof(_name))] // static analysis\n",
    "\tpublic void DefaultValues() \n",
    "\t{\n",
    "\t\t_name = string.Empty;\n",
    "\t}\n",
    "}"
   ]
  },
  {
   "cell_type": "code",
   "execution_count": 173,
   "metadata": {
    "dotnet_interactive": {
     "language": "csharp"
    },
    "polyglot_notebook": {
     "kernelName": "csharp"
    }
   },
   "outputs": [],
   "source": [
    "// original\n",
    "\n",
    "#nullable enable\n",
    "\n",
    "public class User\n",
    "{\n",
    "\tpublic string _first = string.Empty;\n",
    "\n",
    "\tpublic string _middle = null; // static warning\n",
    "\t\n",
    "\tpublic string _last = string.Empty;\n",
    "}"
   ]
  },
  {
   "cell_type": "code",
   "execution_count": null,
   "metadata": {
    "dotnet_interactive": {
     "language": "csharp"
    },
    "polyglot_notebook": {
     "kernelName": "csharp"
    }
   },
   "outputs": [],
   "source": [
    "// nullable modifer\n",
    "\n",
    "#nullable enable\n",
    "\n",
    "public class User\n",
    "{\n",
    "\tpublic string _first = string.Empty;\n",
    "\n",
    "\tpublic string? _middle = null; \n",
    "\t\n",
    "\tpublic string _last = string.Empty;\n",
    "}"
   ]
  },
  {
   "cell_type": "code",
   "execution_count": 174,
   "metadata": {
    "dotnet_interactive": {
     "language": "csharp"
    },
    "polyglot_notebook": {
     "kernelName": "csharp"
    }
   },
   "outputs": [],
   "source": [
    "// null-forgiving\n",
    "\n",
    "#nullable enable\n",
    "\n",
    "public class User\n",
    "{\n",
    "\tpublic string _first = string.Empty;\n",
    "\n",
    "\tpublic string _middle = null!;\n",
    "\t\n",
    "\tpublic string _last = string.Empty;\n",
    "}"
   ]
  },
  {
   "cell_type": "code",
   "execution_count": 7,
   "metadata": {
    "dotnet_interactive": {
     "language": "csharp"
    },
    "polyglot_notebook": {
     "kernelName": "csharp"
    }
   },
   "outputs": [],
   "source": [
    "// NullableAttribute\n",
    "\n",
    "using System.Diagnostics.CodeAnalysis;\n",
    "\n",
    "#nullable enable\n",
    "\n",
    "public class User\n",
    "{\n",
    "#nullable disable\n",
    "\tpublic string _first = null; // no warning\n",
    "#nullable enable\n",
    "\n",
    "\t[AllowNull]\n",
    "\tpublic string _middle = null; // no warning\n",
    "\t\n",
    "\t[NotNull]\n",
    "\tpublic string _last = string.Empty;\n",
    "}"
   ]
  },
  {
   "attachments": {},
   "cell_type": "markdown",
   "metadata": {},
   "source": [
    "C# 8 **Asynchronous streams**"
   ]
  },
  {
   "cell_type": "code",
   "execution_count": 108,
   "metadata": {
    "dotnet_interactive": {
     "language": "csharp"
    },
    "polyglot_notebook": {
     "kernelName": "csharp"
    }
   },
   "outputs": [
    {
     "name": "stdout",
     "output_type": "stream",
     "text": [
      "65\n",
      "2\n",
      "3\n",
      "4\n",
      "5\n",
      "6\n",
      "7\n",
      "8\n",
      "9\n",
      "10\n",
      "11\n"
     ]
    }
   ],
   "source": [
    "// original\n",
    "\n",
    "public IEnumerable<int> Get()\n",
    "{\n",
    "\tforeach (var item in Enumerable.Range(1, 10))\n",
    "\t{\n",
    "\t\tvar x = ProcessAsync(item)\n",
    "\t\t\t.GetAwaiter().GetResult();\n",
    "\t\tyield return x;\n",
    "\t}\n",
    "}\n",
    "\n",
    "public async Task<int> ProcessAsync(int item) => ++item;\n",
    "\n",
    "Console.WriteLine(Get().Sum());\n",
    "\n",
    "foreach (var item in Get())\n",
    "{\n",
    "\tConsole.WriteLine(item);\n",
    "}"
   ]
  },
  {
   "cell_type": "code",
   "execution_count": 122,
   "metadata": {
    "dotnet_interactive": {
     "language": "csharp"
    },
    "polyglot_notebook": {
     "kernelName": "csharp"
    }
   },
   "outputs": [
    {
     "data": {
      "text/html": [
       "<div><div></div><div></div><div><strong>Installed Packages</strong><ul><li><span>System.Linq.Async, 6.0.1</span></li></ul></div></div>"
      ]
     },
     "metadata": {},
     "output_type": "display_data"
    },
    {
     "name": "stdout",
     "output_type": "stream",
     "text": [
      "65\n",
      "2\n",
      "3\n",
      "4\n",
      "5\n",
      "6\n",
      "7\n",
      "8\n",
      "9\n",
      "10\n",
      "11\n"
     ]
    }
   ],
   "source": [
    "// async streams\n",
    "\n",
    "#r \"nuget:System.Linq.Async\"\n",
    "using System.Linq;\n",
    "\n",
    "public async IAsyncEnumerable<int> GetAsync()\n",
    "{\n",
    "\tforeach (var item in Enumerable.Range(1, 10))\n",
    "\t{\n",
    "\t\tyield return await Process(item);\n",
    "\t}\n",
    "}\n",
    "\n",
    "public async Task<int> Process(int item) => ++item;\n",
    "\n",
    "var x = await GetAsync().SumAsync();\n",
    "Console.WriteLine(x);\n",
    "\n",
    "await foreach (var item in GetAsync())\n",
    "{\n",
    "\tConsole.WriteLine(item);\n",
    "}"
   ]
  },
  {
   "attachments": {},
   "cell_type": "markdown",
   "metadata": {},
   "source": [
    "C# 8 **Index & Range**"
   ]
  },
  {
   "cell_type": "code",
   "execution_count": 136,
   "metadata": {
    "dotnet_interactive": {
     "language": "csharp"
    },
    "polyglot_notebook": {
     "kernelName": "csharp"
    }
   },
   "outputs": [
    {
     "data": {
      "text/plain": [
       "a"
      ]
     },
     "metadata": {},
     "output_type": "display_data"
    },
    {
     "data": {
      "text/plain": [
       "e"
      ]
     },
     "metadata": {},
     "output_type": "display_data"
    },
    {
     "data": {
      "text/html": [
       "<div class=\"dni-plaintext\"><pre>[ b, c ]</pre></div><style>\r\n",
       ".dni-code-hint {\r\n",
       "    font-style: italic;\r\n",
       "    overflow: hidden;\r\n",
       "    white-space: nowrap;\r\n",
       "}\r\n",
       ".dni-treeview {\r\n",
       "    white-space: nowrap;\r\n",
       "}\r\n",
       ".dni-treeview td {\r\n",
       "    vertical-align: top;\r\n",
       "    text-align: start;\r\n",
       "}\r\n",
       "details.dni-treeview {\r\n",
       "    padding-left: 1em;\r\n",
       "}\r\n",
       "table td {\r\n",
       "    text-align: start;\r\n",
       "}\r\n",
       "table tr { \r\n",
       "    vertical-align: top; \r\n",
       "    margin: 0em 0px;\r\n",
       "}\r\n",
       "table tr td pre \r\n",
       "{ \r\n",
       "    vertical-align: top !important; \r\n",
       "    margin: 0em 0px !important;\r\n",
       "} \r\n",
       "table th {\r\n",
       "    text-align: start;\r\n",
       "}\r\n",
       "</style>"
      ]
     },
     "metadata": {},
     "output_type": "display_data"
    },
    {
     "data": {
      "text/html": [
       "<div class=\"dni-plaintext\"><pre>[ a, b, c, d ]</pre></div><style>\r\n",
       ".dni-code-hint {\r\n",
       "    font-style: italic;\r\n",
       "    overflow: hidden;\r\n",
       "    white-space: nowrap;\r\n",
       "}\r\n",
       ".dni-treeview {\r\n",
       "    white-space: nowrap;\r\n",
       "}\r\n",
       ".dni-treeview td {\r\n",
       "    vertical-align: top;\r\n",
       "    text-align: start;\r\n",
       "}\r\n",
       "details.dni-treeview {\r\n",
       "    padding-left: 1em;\r\n",
       "}\r\n",
       "table td {\r\n",
       "    text-align: start;\r\n",
       "}\r\n",
       "table tr { \r\n",
       "    vertical-align: top; \r\n",
       "    margin: 0em 0px;\r\n",
       "}\r\n",
       "table tr td pre \r\n",
       "{ \r\n",
       "    vertical-align: top !important; \r\n",
       "    margin: 0em 0px !important;\r\n",
       "} \r\n",
       "table th {\r\n",
       "    text-align: start;\r\n",
       "}\r\n",
       "</style>"
      ]
     },
     "metadata": {},
     "output_type": "display_data"
    },
    {
     "data": {
      "text/html": [
       "<div class=\"dni-plaintext\"><pre>[ b, c, d, e ]</pre></div><style>\r\n",
       ".dni-code-hint {\r\n",
       "    font-style: italic;\r\n",
       "    overflow: hidden;\r\n",
       "    white-space: nowrap;\r\n",
       "}\r\n",
       ".dni-treeview {\r\n",
       "    white-space: nowrap;\r\n",
       "}\r\n",
       ".dni-treeview td {\r\n",
       "    vertical-align: top;\r\n",
       "    text-align: start;\r\n",
       "}\r\n",
       "details.dni-treeview {\r\n",
       "    padding-left: 1em;\r\n",
       "}\r\n",
       "table td {\r\n",
       "    text-align: start;\r\n",
       "}\r\n",
       "table tr { \r\n",
       "    vertical-align: top; \r\n",
       "    margin: 0em 0px;\r\n",
       "}\r\n",
       "table tr td pre \r\n",
       "{ \r\n",
       "    vertical-align: top !important; \r\n",
       "    margin: 0em 0px !important;\r\n",
       "} \r\n",
       "table th {\r\n",
       "    text-align: start;\r\n",
       "}\r\n",
       "</style>"
      ]
     },
     "metadata": {},
     "output_type": "display_data"
    }
   ],
   "source": [
    "// original\n",
    "var a = new[] { \"a\", \"b\", \"c\", \"d\", \"e\" };\n",
    "\n",
    "// first\n",
    "a[0].Display(); // a\n",
    "\n",
    "// last\n",
    "a[a.Length - 1].Display(); // e\n",
    "\n",
    "// second & third\n",
    "var b = new ArraySegment<string>(a, 1, 2);\n",
    "b.Display(); // b, c\n",
    "\n",
    "// first 4\n",
    "var c = new string[4];\n",
    "Array.Copy(a, c, 4);\n",
    "c.Display(); // a, b, c, d\n",
    "\n",
    "// last 4\n",
    "var d = a.Reverse().Take(4).Reverse();\n",
    "d.Display(); // b, c, d, e"
   ]
  },
  {
   "cell_type": "code",
   "execution_count": 139,
   "metadata": {
    "dotnet_interactive": {
     "language": "csharp"
    },
    "polyglot_notebook": {
     "kernelName": "csharp"
    }
   },
   "outputs": [
    {
     "data": {
      "text/plain": [
       "a"
      ]
     },
     "metadata": {},
     "output_type": "display_data"
    },
    {
     "data": {
      "text/plain": [
       "e"
      ]
     },
     "metadata": {},
     "output_type": "display_data"
    },
    {
     "data": {
      "text/html": [
       "<div class=\"dni-plaintext\"><pre>[ b, c ]</pre></div><style>\r\n",
       ".dni-code-hint {\r\n",
       "    font-style: italic;\r\n",
       "    overflow: hidden;\r\n",
       "    white-space: nowrap;\r\n",
       "}\r\n",
       ".dni-treeview {\r\n",
       "    white-space: nowrap;\r\n",
       "}\r\n",
       ".dni-treeview td {\r\n",
       "    vertical-align: top;\r\n",
       "    text-align: start;\r\n",
       "}\r\n",
       "details.dni-treeview {\r\n",
       "    padding-left: 1em;\r\n",
       "}\r\n",
       "table td {\r\n",
       "    text-align: start;\r\n",
       "}\r\n",
       "table tr { \r\n",
       "    vertical-align: top; \r\n",
       "    margin: 0em 0px;\r\n",
       "}\r\n",
       "table tr td pre \r\n",
       "{ \r\n",
       "    vertical-align: top !important; \r\n",
       "    margin: 0em 0px !important;\r\n",
       "} \r\n",
       "table th {\r\n",
       "    text-align: start;\r\n",
       "}\r\n",
       "</style>"
      ]
     },
     "metadata": {},
     "output_type": "display_data"
    },
    {
     "data": {
      "text/html": [
       "<div class=\"dni-plaintext\"><pre>[ a, b, c, d ]</pre></div><style>\r\n",
       ".dni-code-hint {\r\n",
       "    font-style: italic;\r\n",
       "    overflow: hidden;\r\n",
       "    white-space: nowrap;\r\n",
       "}\r\n",
       ".dni-treeview {\r\n",
       "    white-space: nowrap;\r\n",
       "}\r\n",
       ".dni-treeview td {\r\n",
       "    vertical-align: top;\r\n",
       "    text-align: start;\r\n",
       "}\r\n",
       "details.dni-treeview {\r\n",
       "    padding-left: 1em;\r\n",
       "}\r\n",
       "table td {\r\n",
       "    text-align: start;\r\n",
       "}\r\n",
       "table tr { \r\n",
       "    vertical-align: top; \r\n",
       "    margin: 0em 0px;\r\n",
       "}\r\n",
       "table tr td pre \r\n",
       "{ \r\n",
       "    vertical-align: top !important; \r\n",
       "    margin: 0em 0px !important;\r\n",
       "} \r\n",
       "table th {\r\n",
       "    text-align: start;\r\n",
       "}\r\n",
       "</style>"
      ]
     },
     "metadata": {},
     "output_type": "display_data"
    },
    {
     "data": {
      "text/html": [
       "<div class=\"dni-plaintext\"><pre>[ b, c, d, e ]</pre></div><style>\r\n",
       ".dni-code-hint {\r\n",
       "    font-style: italic;\r\n",
       "    overflow: hidden;\r\n",
       "    white-space: nowrap;\r\n",
       "}\r\n",
       ".dni-treeview {\r\n",
       "    white-space: nowrap;\r\n",
       "}\r\n",
       ".dni-treeview td {\r\n",
       "    vertical-align: top;\r\n",
       "    text-align: start;\r\n",
       "}\r\n",
       "details.dni-treeview {\r\n",
       "    padding-left: 1em;\r\n",
       "}\r\n",
       "table td {\r\n",
       "    text-align: start;\r\n",
       "}\r\n",
       "table tr { \r\n",
       "    vertical-align: top; \r\n",
       "    margin: 0em 0px;\r\n",
       "}\r\n",
       "table tr td pre \r\n",
       "{ \r\n",
       "    vertical-align: top !important; \r\n",
       "    margin: 0em 0px !important;\r\n",
       "} \r\n",
       "table th {\r\n",
       "    text-align: start;\r\n",
       "}\r\n",
       "</style>"
      ]
     },
     "metadata": {},
     "output_type": "display_data"
    }
   ],
   "source": [
    "// original\n",
    "var a = new[] { \"a\", \"b\", \"c\", \"d\", \"e\" };\n",
    "\n",
    "// first\n",
    "a[0].Display(); // a\n",
    "\n",
    "// last\n",
    "a[^1].Display(); // e\n",
    "\n",
    "// second & third (end is exclusive)\n",
    "a[1..3].Display(); // b, c\n",
    "\n",
    "// first 4 (end is exclusive)\n",
    "a[..4].Display(); // a, b, c, d\n",
    "\n",
    "// last 4\n",
    "a[^4..].Display(); // b, c, d, e"
   ]
  },
  {
   "attachments": {},
   "cell_type": "markdown",
   "metadata": {},
   "source": [
    "C# 8 **null coalescing assignment**"
   ]
  },
  {
   "cell_type": "code",
   "execution_count": 196,
   "metadata": {
    "dotnet_interactive": {
     "language": "csharp"
    },
    "polyglot_notebook": {
     "kernelName": "csharp"
    }
   },
   "outputs": [
    {
     "data": {
      "text/plain": [
       "mouse"
      ]
     },
     "metadata": {},
     "output_type": "display_data"
    },
    {
     "data": {
      "text/plain": [
       "cat"
      ]
     },
     "metadata": {},
     "output_type": "display_data"
    },
    {
     "data": {
      "text/plain": [
       "mouse"
      ]
     },
     "metadata": {},
     "output_type": "display_data"
    },
    {
     "data": {
      "text/plain": [
       "dog"
      ]
     },
     "metadata": {},
     "output_type": "display_data"
    }
   ],
   "source": [
    "// original\n",
    "\n",
    "var w = (string)null;\n",
    "var x = (string)null;\n",
    "var y = (string)null;\n",
    "var z = (string)null;\n",
    "\n",
    "string a = \"mouse\", b = \"cat\", c = \"dog\";\n",
    "\n",
    "// original\n",
    "\n",
    "if (x is null) \n",
    "\tif (y is null) \n",
    "\t\tif (z is null) w = a; \n",
    "\t\telse w = z; \n",
    "\telse w = y;\n",
    "else w = x;\n",
    "\n",
    "if (x is null) x = (y is null) ? b : y;\n",
    "\n",
    "if (w is null) \n",
    "\tif (x is null) \n",
    "\t\tif (z is null) y = b; \n",
    "\t\telse y = z; \n",
    "\telse y = x;\n",
    "else y = w;\n",
    "\n",
    "if (z is null) z = c;\n",
    "\n",
    "w.Display(); // Output: mouse\n",
    "x.Display(); // Output: cat\n",
    "y.Display(); // Output: mouse\n",
    "z.Display(); // Output: dog"
   ]
  },
  {
   "cell_type": "code",
   "execution_count": 197,
   "metadata": {
    "dotnet_interactive": {
     "language": "csharp"
    },
    "polyglot_notebook": {
     "kernelName": "csharp"
    }
   },
   "outputs": [
    {
     "data": {
      "text/plain": [
       "mouse"
      ]
     },
     "metadata": {},
     "output_type": "display_data"
    },
    {
     "data": {
      "text/plain": [
       "cat"
      ]
     },
     "metadata": {},
     "output_type": "display_data"
    },
    {
     "data": {
      "text/plain": [
       "mouse"
      ]
     },
     "metadata": {},
     "output_type": "display_data"
    },
    {
     "data": {
      "text/plain": [
       "dog"
      ]
     },
     "metadata": {},
     "output_type": "display_data"
    }
   ],
   "source": [
    "var w = (string)null;\n",
    "var x = (string)null;\n",
    "var y = (string)null;\n",
    "var z = (string)null;\n",
    "\n",
    "string a = \"mouse\", b = \"cat\", c = \"dog\";\n",
    "\n",
    "// null coalesce\n",
    "\n",
    "w = x ?? y ?? z ?? a;\n",
    "x ??= y ?? b;\n",
    "y = w ?? x ?? y ?? z ?? b;\n",
    "z ??= c;\n",
    "\n",
    "w.Display(); // Output: mouse\n",
    "x.Display(); // Output: cat\n",
    "y.Display(); // Output: mouse\n",
    "z.Display(); // Output: dog\n"
   ]
  },
  {
   "cell_type": "code",
   "execution_count": 170,
   "metadata": {
    "dotnet_interactive": {
     "language": "csharp"
    },
    "polyglot_notebook": {
     "kernelName": "csharp"
    }
   },
   "outputs": [
    {
     "data": {
      "text/html": [
       "<div class=\"dni-plaintext\"><pre>&lt;null&gt;</pre></div><style>\r\n",
       ".dni-code-hint {\r\n",
       "    font-style: italic;\r\n",
       "    overflow: hidden;\r\n",
       "    white-space: nowrap;\r\n",
       "}\r\n",
       ".dni-treeview {\r\n",
       "    white-space: nowrap;\r\n",
       "}\r\n",
       ".dni-treeview td {\r\n",
       "    vertical-align: top;\r\n",
       "    text-align: start;\r\n",
       "}\r\n",
       "details.dni-treeview {\r\n",
       "    padding-left: 1em;\r\n",
       "}\r\n",
       "table td {\r\n",
       "    text-align: start;\r\n",
       "}\r\n",
       "table tr { \r\n",
       "    vertical-align: top; \r\n",
       "    margin: 0em 0px;\r\n",
       "}\r\n",
       "table tr td pre \r\n",
       "{ \r\n",
       "    vertical-align: top !important; \r\n",
       "    margin: 0em 0px !important;\r\n",
       "} \r\n",
       "table th {\r\n",
       "    text-align: start;\r\n",
       "}\r\n",
       "</style>"
      ]
     },
     "metadata": {},
     "output_type": "display_data"
    }
   ],
   "source": [
    "#nullable enable\n",
    "string name = null!;\n",
    "name = \"\";\n",
    "name = null;\n",
    "name?.GetType()"
   ]
  }
 ],
 "metadata": {
  "kernelspec": {
   "display_name": ".NET (C#)",
   "language": "C#",
   "name": ".net-csharp"
  },
  "language_info": {
   "name": "polyglot-notebook"
  },
  "polyglot_notebook": {
   "kernelInfo": {
    "defaultKernelName": "csharp",
    "items": [
     {
      "aliases": [],
      "languageName": "csharp",
      "name": "csharp"
     }
    ]
   }
  }
 },
 "nbformat": 4,
 "nbformat_minor": 2
}
