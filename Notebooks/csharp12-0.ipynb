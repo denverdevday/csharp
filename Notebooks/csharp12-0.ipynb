{
 "cells": [
  {
   "attachments": {},
   "cell_type": "markdown",
   "metadata": {},
   "source": [
    "C# 12 **Primary constructor**"
   ]
  },
  {
   "cell_type": "code",
   "execution_count": 1,
   "metadata": {
    "dotnet_interactive": {
     "language": "csharp"
    },
    "polyglot_notebook": {
     "kernelName": "csharp"
    }
   },
   "outputs": [],
   "source": [
    "// moved to project\n",
    "\n",
    "public abstract class UserBase(string first, string last)\n",
    "{\n",
    "\tpublic string First { get; set; } = first;\n",
    "\tpublic string Last { get; set; } = last;\n",
    "}\n",
    "\n",
    "// original\n",
    "\n",
    "public class User1\n",
    "{\n",
    "    private string first;\n",
    "    private string last;\n",
    "\n",
    "    public User1(string first, string last)\n",
    "\t{\n",
    "\t\tthis.first = first;\n",
    "\t\tthis.last = last;\n",
    "\t}\n",
    "\n",
    "\tpublic string Name => $\"{first} {last}\";\n",
    "}\n",
    "\n",
    "// primary constructors\n",
    "\n",
    "public class User2(string first, string last)\n",
    "{\n",
    "\tpublic string Name => $\"{first} {last}\";\n",
    "}"
   ]
  },
  {
   "attachments": {},
   "cell_type": "markdown",
   "metadata": {},
   "source": [
    "C# 12 **Using types**"
   ]
  },
  {
   "cell_type": "code",
   "execution_count": 11,
   "metadata": {
    "dotnet_interactive": {
     "language": "csharp"
    },
    "polyglot_notebook": {
     "kernelName": "csharp"
    }
   },
   "outputs": [
    {
     "data": {
      "text/html": [
       "<table><thead><tr><th><i>index</i></th><th>value</th></tr></thead><tbody><tr><td>0</td><td><details class=\"dni-treeview\"><summary><span class=\"dni-code-hint\"><code>(1, 2, 3, 4)</code></span></summary><div><table><thead><tr></tr></thead><tbody><tr><td>Item1</td><td><div class=\"dni-plaintext\"><pre>1</pre></div></td></tr><tr><td>Item2</td><td><div class=\"dni-plaintext\"><pre>2</pre></div></td></tr><tr><td>Item3</td><td><div class=\"dni-plaintext\"><pre>3</pre></div></td></tr><tr><td>Item4</td><td><div class=\"dni-plaintext\"><pre>4</pre></div></td></tr></tbody></table></div></details></td></tr><tr><td>1</td><td><details class=\"dni-treeview\"><summary><span class=\"dni-code-hint\"><code>(2, 3, 4, 5)</code></span></summary><div><table><thead><tr></tr></thead><tbody><tr><td>Item1</td><td><div class=\"dni-plaintext\"><pre>2</pre></div></td></tr><tr><td>Item2</td><td><div class=\"dni-plaintext\"><pre>3</pre></div></td></tr><tr><td>Item3</td><td><div class=\"dni-plaintext\"><pre>4</pre></div></td></tr><tr><td>Item4</td><td><div class=\"dni-plaintext\"><pre>5</pre></div></td></tr></tbody></table></div></details></td></tr><tr><td>2</td><td><details class=\"dni-treeview\"><summary><span class=\"dni-code-hint\"><code>(3, 4, 5, 6)</code></span></summary><div><table><thead><tr></tr></thead><tbody><tr><td>Item1</td><td><div class=\"dni-plaintext\"><pre>3</pre></div></td></tr><tr><td>Item2</td><td><div class=\"dni-plaintext\"><pre>4</pre></div></td></tr><tr><td>Item3</td><td><div class=\"dni-plaintext\"><pre>5</pre></div></td></tr><tr><td>Item4</td><td><div class=\"dni-plaintext\"><pre>6</pre></div></td></tr></tbody></table></div></details></td></tr></tbody></table><style>\r\n",
       ".dni-code-hint {\r\n",
       "    font-style: italic;\r\n",
       "    overflow: hidden;\r\n",
       "    white-space: nowrap;\r\n",
       "}\r\n",
       ".dni-treeview {\r\n",
       "    white-space: nowrap;\r\n",
       "}\r\n",
       ".dni-treeview td {\r\n",
       "    vertical-align: top;\r\n",
       "    text-align: start;\r\n",
       "}\r\n",
       "details.dni-treeview {\r\n",
       "    padding-left: 1em;\r\n",
       "}\r\n",
       "table td {\r\n",
       "    text-align: start;\r\n",
       "}\r\n",
       "table tr { \r\n",
       "    vertical-align: top; \r\n",
       "    margin: 0em 0px;\r\n",
       "}\r\n",
       "table tr td pre \r\n",
       "{ \r\n",
       "    vertical-align: top !important; \r\n",
       "    margin: 0em 0px !important;\r\n",
       "} \r\n",
       "table th {\r\n",
       "    text-align: start;\r\n",
       "}\r\n",
       "</style>"
      ]
     },
     "metadata": {},
     "output_type": "display_data"
    },
    {
     "data": {
      "text/html": [
       "<details open=\"open\" class=\"dni-treeview\"><summary><span class=\"dni-code-hint\"><code>Jerry { Number = 123 }</code></span></summary><div><table><thead><tr></tr></thead><tbody><tr><td>Number</td><td><div class=\"dni-plaintext\"><pre>123</pre></div></td></tr></tbody></table></div></details><style>\r\n",
       ".dni-code-hint {\r\n",
       "    font-style: italic;\r\n",
       "    overflow: hidden;\r\n",
       "    white-space: nowrap;\r\n",
       "}\r\n",
       ".dni-treeview {\r\n",
       "    white-space: nowrap;\r\n",
       "}\r\n",
       ".dni-treeview td {\r\n",
       "    vertical-align: top;\r\n",
       "    text-align: start;\r\n",
       "}\r\n",
       "details.dni-treeview {\r\n",
       "    padding-left: 1em;\r\n",
       "}\r\n",
       "table td {\r\n",
       "    text-align: start;\r\n",
       "}\r\n",
       "table tr { \r\n",
       "    vertical-align: top; \r\n",
       "    margin: 0em 0px;\r\n",
       "}\r\n",
       "table tr td pre \r\n",
       "{ \r\n",
       "    vertical-align: top !important; \r\n",
       "    margin: 0em 0px !important;\r\n",
       "} \r\n",
       "table th {\r\n",
       "    text-align: start;\r\n",
       "}\r\n",
       "</style>"
      ]
     },
     "metadata": {},
     "output_type": "display_data"
    }
   ],
   "source": [
    "// original\n",
    "\n",
    "using System;\n",
    "using JerryType = Jerry;\n",
    "using FourD = System.ValueTuple<int, int, int, int>;\n",
    "\n",
    "var fourD1 = new FourD(1, 2, 3, 4);\n",
    "var fourD2 = new FourD(2, 3, 4, 5);\n",
    "var fourD3 = new FourD(3, 4, 5, 6);\n",
    "\n",
    "new[] { fourD1, fourD2, fourD3 }.Display();\n",
    "\n",
    "var jerry = new JerryType(123);\n",
    "\n",
    "jerry.Display();\n",
    "\n",
    "public record class Jerry(int Number);"
   ]
  },
  {
   "cell_type": "code",
   "execution_count": null,
   "metadata": {
    "dotnet_interactive": {
     "language": "csharp"
    },
    "polyglot_notebook": {
     "kernelName": "csharp"
    }
   },
   "outputs": [],
   "source": [
    "\n",
    "// C# 12 \n",
    "\n",
    "using DbInt = int?; // nullables supported\n",
    "using DbInts = int?[]; // arrays supported\n",
    "using User1 = (string, string); // tuples supported\n",
    "using User2 = (string First, string Last); // named tuples supported\n",
    "\n",
    "internal class Program\n",
    "{\n",
    "    private static void Main(string[] args)\n",
    "    {\n",
    "\t\tvar number = new DbInt(1);\n",
    "        Console.WriteLine(number);\n",
    "\n",
    "\t\tDbInts numbers = new int?[] {1, 2, 3};\n",
    "\t\tConsole.WriteLine(numbers);\n",
    "\n",
    "\t\tUser1 user1 = (\"Jerry\", \"Nixon\");\n",
    "\t\tConsole.WriteLine(user1);\n",
    "\n",
    "\t\tUser2 user2 = new (\"Jerry\", \"Nixon\");\n",
    "\t\tConsole.WriteLine(user2);\n",
    "    }\n",
    "}\n",
    "\n"
   ]
  },
  {
   "attachments": {},
   "cell_type": "markdown",
   "metadata": {},
   "source": [
    "C# 12 **Empty Collections**"
   ]
  },
  {
   "cell_type": "code",
   "execution_count": null,
   "metadata": {
    "dotnet_interactive": {
     "language": "csharp"
    },
    "polyglot_notebook": {
     "kernelName": "csharp"
    }
   },
   "outputs": [],
   "source": [
    "private static void Main(string[] args)\n",
    "{\n",
    "\tDo(new[]{ default(MyThing) }.ToList());\n",
    "\n",
    "\tDo(new MyThing[].ToList());\n",
    "\n",
    "\tDo(Array.Empty<MyThing>().ToList());\n",
    "\n",
    "\tDo(new());\n",
    "\n",
    "\t// C# 12\n",
    "\n",
    "    Do(List.Empty<MyThing>());\n",
    "\n",
    "\tDo([]);\n",
    "}\n",
    "\n",
    "public static void Do(List<MyThing> items)\n",
    "{\n",
    "\t// TODO\n",
    "}"
   ]
  },
  {
   "attachments": {},
   "cell_type": "markdown",
   "metadata": {},
   "source": [
    "C# 12 **Default lambda params**"
   ]
  },
  {
   "cell_type": "code",
   "execution_count": null,
   "metadata": {
    "dotnet_interactive": {
     "language": "csharp"
    },
    "polyglot_notebook": {
     "kernelName": "csharp"
    }
   },
   "outputs": [],
   "source": [
    "using MyThing = string;\n",
    "\n",
    "internal class Program\n",
    "{\n",
    "\tprivate static void Main(string[] args)\n",
    "\t{\n",
    "\t\tvar f1 = (int i) => i++;\n",
    "\t\tConsole.WriteLine(f1(1));\n",
    "\n",
    "\t\tvar f2 = (int? i = 1) => i++;\n",
    "\t\tConsole.WriteLine(f2()); // 1\n",
    "\t}\n",
    "}"
   ]
  }
 ],
 "metadata": {
  "kernelspec": {
   "display_name": ".NET (C#)",
   "language": "C#",
   "name": ".net-csharp"
  },
  "language_info": {
   "name": "polyglot-notebook"
  },
  "polyglot_notebook": {
   "kernelInfo": {
    "defaultKernelName": "csharp",
    "items": [
     {
      "aliases": [],
      "languageName": "csharp",
      "name": "csharp"
     }
    ]
   }
  }
 },
 "nbformat": 4,
 "nbformat_minor": 2
}
