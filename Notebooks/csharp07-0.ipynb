{
 "cells": [
  {
   "attachments": {},
   "cell_type": "markdown",
   "metadata": {},
   "source": [
    "C# 7.0 **Out variables**"
   ]
  },
  {
   "cell_type": "code",
   "execution_count": 3,
   "metadata": {
    "dotnet_interactive": {
     "language": "csharp"
    },
    "polyglot_notebook": {
     "kernelName": "csharp"
    }
   },
   "outputs": [
    {
     "name": "stdout",
     "output_type": "stream",
     "text": [
      "123\n",
      "123\n",
      "123\n",
      "123\n",
      "123\n"
     ]
    }
   ],
   "source": [
    "// outside declaration\n",
    "\n",
    "int number1;\n",
    "int.TryParse(\"123\", out number1);\n",
    "Console.WriteLine(number1);\n",
    "\n",
    "// in an if-then statement\n",
    "\n",
    "int number2;\n",
    "if (int.TryParse(\"123\", out number2))\n",
    "{\n",
    "\tConsole.WriteLine(number2);\n",
    "}\n",
    "\n",
    "// out variable - typed\n",
    "\n",
    "int.TryParse(\"123\", out int number3);\n",
    "Console.WriteLine(number3);\n",
    "\n",
    "// out variable - using var\n",
    "\n",
    "int.TryParse(\"123\", out var number4);\n",
    "Console.WriteLine(number4);\n",
    "\n",
    "// in an if-then statement\n",
    "\n",
    "if (int.TryParse(\"123\", out var number5))\n",
    "{\n",
    "\tConsole.WriteLine(number5);\n",
    "}"
   ]
  },
  {
   "attachments": {},
   "cell_type": "markdown",
   "metadata": {},
   "source": [
    "C# 7.0 **Tuples & deconstruction**"
   ]
  },
  {
   "cell_type": "code",
   "execution_count": 6,
   "metadata": {
    "dotnet_interactive": {
     "language": "csharp"
    },
    "polyglot_notebook": {
     "kernelName": "csharp"
    }
   },
   "outputs": [
    {
     "name": "stdout",
     "output_type": "stream",
     "text": [
      "Jerry\n",
      "Nixon\n",
      "Jerry\n",
      "Nixon\n",
      "Jerry\n",
      "Nixon\n",
      "Jerry\n"
     ]
    }
   ],
   "source": [
    "// unnamed tuple\n",
    "\n",
    "(string, string) name1 = GetName();\n",
    "Console.WriteLine(name1.Item1);\n",
    "Console.WriteLine(name1.Item2);\n",
    "\n",
    "// named tuple\n",
    "\n",
    "(string First, string Last) name2 = GetName();\n",
    "Console.WriteLine(name2.First);\n",
    "Console.WriteLine(name2.Last);\n",
    "\n",
    "// deconstructed tuple\n",
    "\n",
    "var (first, last) = GetName();\n",
    "Console.WriteLine(first);\n",
    "Console.WriteLine(last);\n",
    "\n",
    "// deconstructed tuple\n",
    "\n",
    "var (firstName, _) = GetName();\n",
    "Console.WriteLine(firstName);\n",
    "\n",
    "(string, string) GetName() => (\"Jerry\", \"Nixon\");"
   ]
  },
  {
   "attachments": {},
   "cell_type": "markdown",
   "metadata": {},
   "source": [
    "C# 7.0 **Pattern matching**"
   ]
  },
  {
   "cell_type": "code",
   "execution_count": 20,
   "metadata": {
    "dotnet_interactive": {
     "language": "csharp"
    },
    "polyglot_notebook": {
     "kernelName": "csharp"
    }
   },
   "outputs": [
    {
     "name": "stdout",
     "output_type": "stream",
     "text": [
      "Yes\n",
      "Yes\n"
     ]
    }
   ],
   "source": [
    "// simple matching original\n",
    "\n",
    "Console.WriteLine(Do1(1));\n",
    "\n",
    "string Do1(object value)\n",
    "{\n",
    "\tif (value is string) return \"Invalid\";\n",
    "\n",
    "\tif (value is not int) throw new Exception();\n",
    "\n",
    "\tswitch (value)\n",
    "\t{\n",
    "\t\tcase 1: return \"Yes\";\n",
    "\t\tcase 2: return \"No\";\n",
    "\t\tdefault: return \"Unknown\";\n",
    "\t}\n",
    "}\n",
    "\n",
    "// pattern matching\n",
    "\n",
    "Console.WriteLine(Do2(1));\n",
    "\n",
    "string Do2(object value)\n",
    "{\n",
    "\tswitch (value)\n",
    "\t{\n",
    "\t\tcase int i when (i is 1): return \"Yes\";\n",
    "\t\tcase int i when (i is 2): return \"No\";\n",
    "\t\tcase int i: return \"Unknown\";\n",
    "\t\tcase string s: return \"Invalid\";\n",
    "\t\tdefault: throw new Exception();\n",
    "\t}\n",
    "}"
   ]
  },
  {
   "attachments": {},
   "cell_type": "markdown",
   "metadata": {},
   "source": [
    "C# 7.0 **Local functions**"
   ]
  },
  {
   "cell_type": "code",
   "execution_count": null,
   "metadata": {
    "dotnet_interactive": {
     "language": "csharp"
    },
    "polyglot_notebook": {
     "kernelName": "csharp"
    }
   },
   "outputs": [],
   "source": [
    "// original\n",
    "double Divide(double divisor, double dividend)\n",
    "{\n",
    "\tif (dividend == 0)\n",
    "\t{\n",
    "\t\tthrow new ArgumentException(\"dividend\");\n",
    "\t}\n",
    "\n",
    "\treturn divisor / dividend;\n",
    "}"
   ]
  },
  {
   "cell_type": "code",
   "execution_count": 17,
   "metadata": {
    "dotnet_interactive": {
     "language": "csharp"
    },
    "polyglot_notebook": {
     "kernelName": "csharp"
    }
   },
   "outputs": [],
   "source": [
    "// shorter, self-documenting\n",
    "\n",
    "double Divide(double divisor, double dividend)\n",
    "{\n",
    "\tEnsureValidDividend(dividend);\n",
    "\n",
    "\treturn divisor / dividend;\n",
    "}\n",
    "\n",
    "void EnsureValidDividend(double dividend)\n",
    "{\n",
    "\tif (dividend == 0)\n",
    "\t{\n",
    "\t\tthrow new ArgumentException(\"dividend\");\n",
    "\t}\n",
    "}"
   ]
  },
  {
   "cell_type": "code",
   "execution_count": null,
   "metadata": {
    "dotnet_interactive": {
     "language": "csharp"
    },
    "polyglot_notebook": {
     "kernelName": "csharp"
    }
   },
   "outputs": [],
   "source": [
    "// local method\n",
    "\n",
    "double Divide(double divisor, double dividend)\n",
    "{\n",
    "\tEnsureValidDividend(dividend);\n",
    "\t\n",
    "\treturn divisor / dividend;\n",
    "\n",
    "\tvoid EnsureValidDividend(double dividend)\n",
    "\t{\n",
    "\t\tif (dividend == 0)\n",
    "\t\t{\n",
    "\t\t\tthrow new ArgumentException(\"dividend\");\n",
    "\t\t}\n",
    "\t}\n",
    "}"
   ]
  },
  {
   "attachments": {},
   "cell_type": "markdown",
   "metadata": {},
   "source": [
    "C# 7.0 **Expression body members**"
   ]
  },
  {
   "cell_type": "code",
   "execution_count": 19,
   "metadata": {
    "dotnet_interactive": {
     "language": "csharp"
    },
    "polyglot_notebook": {
     "kernelName": "csharp"
    }
   },
   "outputs": [],
   "source": [
    "// method\n",
    "TimeSpan GetTime()\n",
    "{\n",
    "\treturn DateTime.UtcNow.TimeOfDay;\n",
    "}\n",
    "\n",
    "// property\n",
    "private string firstName = string.Empty;\n",
    "public string FirstName\n",
    "{\n",
    "\tget { return firstName; }\n",
    "\tset { firstName = value; }\n",
    "}\n",
    "\n",
    "// ro property\n",
    "private string lastName;\n",
    "public string FullName\n",
    "{\n",
    "\tget { return $\"{firstName} {lastName}\"; }\n",
    "}"
   ]
  },
  {
   "cell_type": "code",
   "execution_count": null,
   "metadata": {
    "dotnet_interactive": {
     "language": "csharp"
    },
    "polyglot_notebook": {
     "kernelName": "csharp"
    }
   },
   "outputs": [],
   "source": [
    "// method\n",
    "TimeSpan GetTime() \n",
    "    => DateTime.UtcNow.TimeOfDay;\n",
    "\n",
    "// property\n",
    "private string firstName = string.Empty;\n",
    "public string FirstName\n",
    "{\n",
    "\tget => firstName;\n",
    "\tset => firstName = value; \n",
    "}\n",
    "\n",
    "// ro property\n",
    "private string lastName;\n",
    "public string FullName\n",
    "\t=> $\"{firstName} {lastName}\";"
   ]
  },
  {
   "attachments": {},
   "cell_type": "markdown",
   "metadata": {},
   "source": [
    "C# 7.0 **Discards**"
   ]
  },
  {
   "cell_type": "code",
   "execution_count": 23,
   "metadata": {
    "dotnet_interactive": {
     "language": "csharp"
    },
    "polyglot_notebook": {
     "kernelName": "csharp"
    }
   },
   "outputs": [
    {
     "name": "stdout",
     "output_type": "stream",
     "text": [
      "Jerry\n",
      "Invalid intergal\n"
     ]
    }
   ],
   "source": [
    "// deconstructed tuple\n",
    "\n",
    "var (firstName, lastName) = GetName();\n",
    "Console.WriteLine(firstName);\n",
    "\n",
    "// output variable\n",
    "\n",
    "if (!int.TryParse(\"ABC\", out var number))\n",
    "{\n",
    "\tConsole.WriteLine(\"Invalid intergal\");\n",
    "}\n",
    "\n",
    "// source\n",
    "\n",
    "(string, string) GetName() => (\"Jerry\", \"Nixon\");\n"
   ]
  },
  {
   "cell_type": "code",
   "execution_count": 31,
   "metadata": {
    "dotnet_interactive": {
     "language": "csharp"
    },
    "polyglot_notebook": {
     "kernelName": "csharp"
    }
   },
   "outputs": [
    {
     "name": "stdout",
     "output_type": "stream",
     "text": [
      "Jerry\n",
      "Invalid intergal\n"
     ]
    }
   ],
   "source": [
    "// deconstructed tuple\n",
    "\n",
    "var (firstName, _) = GetName();\n",
    "Console.WriteLine(firstName);\n",
    "\n",
    "// output variable\n",
    "\n",
    "if (!int.TryParse(\"ABC\", out _))\n",
    "{\n",
    "\tConsole.WriteLine(\"Invalid intergal\");\n",
    "}\n",
    "\n",
    "// source\n",
    "\n",
    "(string, string) GetName() => (\"Jerry\", \"Nixon\");"
   ]
  },
  {
   "attachments": {},
   "cell_type": "markdown",
   "metadata": {},
   "source": [
    "C# 7.0 **Binary literals**"
   ]
  },
  {
   "cell_type": "code",
   "execution_count": 28,
   "metadata": {
    "dotnet_interactive": {
     "language": "csharp"
    },
    "polyglot_notebook": {
     "kernelName": "csharp"
    }
   },
   "outputs": [
    {
     "data": {
      "text/html": [
       "<div class=\"dni-plaintext\"><pre>[ 1, 2, 4, 8, 16 ]</pre></div><style>\r\n",
       ".dni-code-hint {\r\n",
       "    font-style: italic;\r\n",
       "    overflow: hidden;\r\n",
       "    white-space: nowrap;\r\n",
       "}\r\n",
       ".dni-treeview {\r\n",
       "    white-space: nowrap;\r\n",
       "}\r\n",
       ".dni-treeview td {\r\n",
       "    vertical-align: top;\r\n",
       "    text-align: start;\r\n",
       "}\r\n",
       "details.dni-treeview {\r\n",
       "    padding-left: 1em;\r\n",
       "}\r\n",
       "table td {\r\n",
       "    text-align: start;\r\n",
       "}\r\n",
       "table tr { \r\n",
       "    vertical-align: top; \r\n",
       "    margin: 0em 0px;\r\n",
       "}\r\n",
       "table tr td pre \r\n",
       "{ \r\n",
       "    vertical-align: top !important; \r\n",
       "    margin: 0em 0px !important;\r\n",
       "} \r\n",
       "table th {\r\n",
       "    text-align: start;\r\n",
       "}\r\n",
       "</style>"
      ]
     },
     "metadata": {},
     "output_type": "display_data"
    },
    {
     "data": {
      "text/html": [
       "<div class=\"dni-plaintext\"><pre>[ 1, 2, 4, 8, 16 ]</pre></div><style>\r\n",
       ".dni-code-hint {\r\n",
       "    font-style: italic;\r\n",
       "    overflow: hidden;\r\n",
       "    white-space: nowrap;\r\n",
       "}\r\n",
       ".dni-treeview {\r\n",
       "    white-space: nowrap;\r\n",
       "}\r\n",
       ".dni-treeview td {\r\n",
       "    vertical-align: top;\r\n",
       "    text-align: start;\r\n",
       "}\r\n",
       "details.dni-treeview {\r\n",
       "    padding-left: 1em;\r\n",
       "}\r\n",
       "table td {\r\n",
       "    text-align: start;\r\n",
       "}\r\n",
       "table tr { \r\n",
       "    vertical-align: top; \r\n",
       "    margin: 0em 0px;\r\n",
       "}\r\n",
       "table tr td pre \r\n",
       "{ \r\n",
       "    vertical-align: top !important; \r\n",
       "    margin: 0em 0px !important;\r\n",
       "} \r\n",
       "table th {\r\n",
       "    text-align: start;\r\n",
       "}\r\n",
       "</style>"
      ]
     },
     "metadata": {},
     "output_type": "display_data"
    }
   ],
   "source": [
    "// original \n",
    "\n",
    "var i1 = 1;\n",
    "var i2 = 2;\n",
    "var i3 = 4;\n",
    "var i4 = 8;\n",
    "var i5 = 16;\n",
    "\n",
    "var i = new[] { i1, i2, i3, i4, i5 };\n",
    "i.Display();\n",
    "\n",
    "var b1 = Convert.ToInt32(\"1\", 2);\n",
    "var b2 = Convert.ToInt32(\"1\", 2);\n",
    "var b3 = Convert.ToInt32(\"1\", 2);\n",
    "var b4 = Convert.ToInt32(\"1\", 2);\n",
    "var b5 = Convert.ToInt32(\"1\", 2);\n",
    "\n",
    "var b = new[] { b1, b2, b3, b4, b5 };\n",
    "b.Display();"
   ]
  },
  {
   "cell_type": "code",
   "execution_count": 32,
   "metadata": {
    "dotnet_interactive": {
     "language": "csharp"
    },
    "polyglot_notebook": {
     "kernelName": "csharp"
    }
   },
   "outputs": [
    {
     "data": {
      "text/html": [
       "<div class=\"dni-plaintext\"><pre>[ 1, 2, 4, 8, 16 ]</pre></div><style>\r\n",
       ".dni-code-hint {\r\n",
       "    font-style: italic;\r\n",
       "    overflow: hidden;\r\n",
       "    white-space: nowrap;\r\n",
       "}\r\n",
       ".dni-treeview {\r\n",
       "    white-space: nowrap;\r\n",
       "}\r\n",
       ".dni-treeview td {\r\n",
       "    vertical-align: top;\r\n",
       "    text-align: start;\r\n",
       "}\r\n",
       "details.dni-treeview {\r\n",
       "    padding-left: 1em;\r\n",
       "}\r\n",
       "table td {\r\n",
       "    text-align: start;\r\n",
       "}\r\n",
       "table tr { \r\n",
       "    vertical-align: top; \r\n",
       "    margin: 0em 0px;\r\n",
       "}\r\n",
       "table tr td pre \r\n",
       "{ \r\n",
       "    vertical-align: top !important; \r\n",
       "    margin: 0em 0px !important;\r\n",
       "} \r\n",
       "table th {\r\n",
       "    text-align: start;\r\n",
       "}\r\n",
       "</style>"
      ]
     },
     "metadata": {},
     "output_type": "display_data"
    },
    {
     "data": {
      "text/html": [
       "<div class=\"dni-plaintext\"><pre>[ 1, 2, 4, 8, 16 ]</pre></div><style>\r\n",
       ".dni-code-hint {\r\n",
       "    font-style: italic;\r\n",
       "    overflow: hidden;\r\n",
       "    white-space: nowrap;\r\n",
       "}\r\n",
       ".dni-treeview {\r\n",
       "    white-space: nowrap;\r\n",
       "}\r\n",
       ".dni-treeview td {\r\n",
       "    vertical-align: top;\r\n",
       "    text-align: start;\r\n",
       "}\r\n",
       "details.dni-treeview {\r\n",
       "    padding-left: 1em;\r\n",
       "}\r\n",
       "table td {\r\n",
       "    text-align: start;\r\n",
       "}\r\n",
       "table tr { \r\n",
       "    vertical-align: top; \r\n",
       "    margin: 0em 0px;\r\n",
       "}\r\n",
       "table tr td pre \r\n",
       "{ \r\n",
       "    vertical-align: top !important; \r\n",
       "    margin: 0em 0px !important;\r\n",
       "} \r\n",
       "table th {\r\n",
       "    text-align: start;\r\n",
       "}\r\n",
       "</style>"
      ]
     },
     "metadata": {},
     "output_type": "display_data"
    }
   ],
   "source": [
    "// binary literals \n",
    "\n",
    "var i1 = 1;\n",
    "var i2 = 2;\n",
    "var i3 = 4;\n",
    "var i4 = 8;\n",
    "var i5 = 16;\n",
    "\n",
    "var i = new[] { i1, i2, i3, i4, i5 };\n",
    "i.Display();\n",
    "\n",
    "var b1 = 0b1;\n",
    "var b2 = 0b10;\n",
    "var b3 = 0b100;\n",
    "var b4 = 0b1000;\n",
    "var b5 = 0b10000;\n",
    "\n",
    "var b = new[] { b1, b2, b3, b4, b5 };\n",
    "b.Display();"
   ]
  },
  {
   "attachments": {},
   "cell_type": "markdown",
   "metadata": {},
   "source": [
    "C# 7.0 **Digit separators**"
   ]
  },
  {
   "cell_type": "code",
   "execution_count": 34,
   "metadata": {
    "dotnet_interactive": {
     "language": "csharp"
    },
    "polyglot_notebook": {
     "kernelName": "csharp"
    }
   },
   "outputs": [
    {
     "data": {
      "text/html": [
       "<div class=\"dni-plaintext\"><pre>[ 100, 1000, 10000, 100000, 1000000 ]</pre></div><style>\r\n",
       ".dni-code-hint {\r\n",
       "    font-style: italic;\r\n",
       "    overflow: hidden;\r\n",
       "    white-space: nowrap;\r\n",
       "}\r\n",
       ".dni-treeview {\r\n",
       "    white-space: nowrap;\r\n",
       "}\r\n",
       ".dni-treeview td {\r\n",
       "    vertical-align: top;\r\n",
       "    text-align: start;\r\n",
       "}\r\n",
       "details.dni-treeview {\r\n",
       "    padding-left: 1em;\r\n",
       "}\r\n",
       "table td {\r\n",
       "    text-align: start;\r\n",
       "}\r\n",
       "table tr { \r\n",
       "    vertical-align: top; \r\n",
       "    margin: 0em 0px;\r\n",
       "}\r\n",
       "table tr td pre \r\n",
       "{ \r\n",
       "    vertical-align: top !important; \r\n",
       "    margin: 0em 0px !important;\r\n",
       "} \r\n",
       "table th {\r\n",
       "    text-align: start;\r\n",
       "}\r\n",
       "</style>"
      ]
     },
     "metadata": {},
     "output_type": "display_data"
    }
   ],
   "source": [
    "// original\n",
    "\n",
    "var i1 = 100;\n",
    "var i2 = 1000;\n",
    "var i3 = 10000;\n",
    "var i4 = 100000;\n",
    "var i5 = 1000000;\n",
    "\n",
    "var i = new[] { i1, i2, i3, i4, i5 };\n",
    "i.Display();"
   ]
  },
  {
   "cell_type": "code",
   "execution_count": 56,
   "metadata": {
    "dotnet_interactive": {
     "language": "csharp"
    },
    "polyglot_notebook": {
     "kernelName": "csharp"
    }
   },
   "outputs": [
    {
     "data": {
      "text/html": [
       "<div class=\"dni-plaintext\"><pre>[ 100, 1000, 10000, 100000, 1000000 ]</pre></div><style>\r\n",
       ".dni-code-hint {\r\n",
       "    font-style: italic;\r\n",
       "    overflow: hidden;\r\n",
       "    white-space: nowrap;\r\n",
       "}\r\n",
       ".dni-treeview {\r\n",
       "    white-space: nowrap;\r\n",
       "}\r\n",
       ".dni-treeview td {\r\n",
       "    vertical-align: top;\r\n",
       "    text-align: start;\r\n",
       "}\r\n",
       "details.dni-treeview {\r\n",
       "    padding-left: 1em;\r\n",
       "}\r\n",
       "table td {\r\n",
       "    text-align: start;\r\n",
       "}\r\n",
       "table tr { \r\n",
       "    vertical-align: top; \r\n",
       "    margin: 0em 0px;\r\n",
       "}\r\n",
       "table tr td pre \r\n",
       "{ \r\n",
       "    vertical-align: top !important; \r\n",
       "    margin: 0em 0px !important;\r\n",
       "} \r\n",
       "table th {\r\n",
       "    text-align: start;\r\n",
       "}\r\n",
       "</style>"
      ]
     },
     "metadata": {},
     "output_type": "display_data"
    }
   ],
   "source": [
    "// digit separators\n",
    "\n",
    "var i1 = 100;\n",
    "var i2 = 1_000;\n",
    "var i3 = 10_000;\n",
    "var i4 = 100_000;\n",
    "var i5 = 1_000_000;\n",
    "\n",
    "var i = new[] { i1, i2, i3, i4, i5 };\n",
    "i.Display();"
   ]
  },
  {
   "attachments": {},
   "cell_type": "markdown",
   "metadata": {},
   "source": [
    "C# 7.0 **Throw expressions**"
   ]
  },
  {
   "cell_type": "code",
   "execution_count": 37,
   "metadata": {
    "dotnet_interactive": {
     "language": "csharp"
    },
    "polyglot_notebook": {
     "kernelName": "csharp"
    }
   },
   "outputs": [],
   "source": [
    "// original\n",
    "\n",
    "string UpperCase(string name)\n",
    "{\n",
    "\tif (string.IsInterned(name))\n",
    "\t{\n",
    "\t\tthrow new Exception(\"interned\");\n",
    "\t}\n",
    "\n",
    "\tif (name == string.Empty)\n",
    "\t{\n",
    "\t\tthrow new Exception(\"null\");\n",
    "\t}\n",
    "\n",
    "\treturn name.ToUpper();\n",
    "}"
   ]
  },
  {
   "cell_type": "code",
   "execution_count": 39,
   "metadata": {
    "dotnet_interactive": {
     "language": "csharp"
    },
    "polyglot_notebook": {
     "kernelName": "csharp"
    }
   },
   "outputs": [],
   "source": [
    "// throw expressions\n",
    "\n",
    "string UpperCase(string name)\n",
    "{\n",
    "\tname = (string.IsInterned(name))\n",
    "\t\t? throw new Exception(\"interned\")\n",
    "\t\t: name ?? throw new Exception(\"null\");\n",
    "\t\n",
    "\treturn name.ToUpper();\n",
    "}"
   ]
  }
 ],
 "metadata": {
  "kernelspec": {
   "display_name": ".NET (C#)",
   "language": "C#",
   "name": ".net-csharp"
  },
  "language_info": {
   "name": "polyglot-notebook"
  },
  "polyglot_notebook": {
   "kernelInfo": {
    "defaultKernelName": "csharp",
    "items": [
     {
      "aliases": [],
      "languageName": "csharp",
      "name": "csharp"
     }
    ]
   }
  }
 },
 "nbformat": 4,
 "nbformat_minor": 2
}
