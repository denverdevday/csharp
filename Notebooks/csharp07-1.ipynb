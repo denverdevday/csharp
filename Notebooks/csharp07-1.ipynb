{
 "cells": [
  {
   "attachments": {},
   "cell_type": "markdown",
   "metadata": {},
   "source": [
    "C# 7.1 **async Main()**"
   ]
  },
  {
   "cell_type": "code",
   "execution_count": 1,
   "metadata": {
    "dotnet_interactive": {
     "language": "csharp"
    },
    "polyglot_notebook": {
     "kernelName": "csharp"
    }
   },
   "outputs": [],
   "source": [
    "// original\n",
    "\n",
    "public class Program\n",
    "{\n",
    "    public static void Main()\n",
    "    {\n",
    "        Start().Wait();\n",
    "    }\n",
    "\n",
    "    public static async Task Start()\n",
    "    {\n",
    "        Task.Delay(10).Wait();\n",
    "        Console.WriteLine(\"Hello\");\n",
    "    }\n",
    "}\n"
   ]
  },
  {
   "cell_type": "code",
   "execution_count": null,
   "metadata": {
    "dotnet_interactive": {
     "language": "csharp"
    },
    "polyglot_notebook": {
     "kernelName": "csharp"
    }
   },
   "outputs": [],
   "source": [
    "// async Main()\n",
    "\n",
    "public class Program\n",
    "{\n",
    "    public static async Task Main()\n",
    "    {\n",
    "        Task.Delay(10).Wait();\n",
    "        Console.WriteLine(\"Hello\");\n",
    "    }\n",
    "}"
   ]
  },
  {
   "attachments": {},
   "cell_type": "markdown",
   "metadata": {},
   "source": [
    "C# 7.1 **Default literal expressions**"
   ]
  },
  {
   "cell_type": "code",
   "execution_count": 55,
   "metadata": {
    "dotnet_interactive": {
     "language": "csharp"
    },
    "polyglot_notebook": {
     "kernelName": "csharp"
    }
   },
   "outputs": [],
   "source": [
    "// original\n",
    "\n",
    "int i = default(int);\n",
    "\n",
    "bool b = default(bool);\n",
    "\n",
    "Action<int> a = default(Action<int>);\n",
    "\n",
    "Do(i, b, a);\n",
    "\n",
    "Do(default(int), default(bool), default(Action<int>));\n",
    "\n",
    "// method\n",
    "\n",
    "void Do(int w, bool x, Action<int> z)\n",
    "{\n",
    "\t// TODO\n",
    "}"
   ]
  },
  {
   "cell_type": "code",
   "execution_count": 46,
   "metadata": {
    "dotnet_interactive": {
     "language": "csharp"
    },
    "polyglot_notebook": {
     "kernelName": "csharp"
    }
   },
   "outputs": [],
   "source": [
    "// default expressions\n",
    "\n",
    "int i = default;\n",
    "\n",
    "bool b = default;\n",
    "\n",
    "Action<int> a = default;\n",
    "\n",
    "Do(i, b, a);\n",
    "\n",
    "Do(default, default, default);\n",
    "\n",
    "// method\n",
    "\n",
    "void Do(int w, bool x, Action<int> z)\n",
    "{\n",
    "\t// TODO\n",
    "}"
   ]
  },
  {
   "attachments": {},
   "cell_type": "markdown",
   "metadata": {},
   "source": [
    "C# 7.1 **Infer tuple names**"
   ]
  },
  {
   "cell_type": "code",
   "execution_count": 4,
   "metadata": {
    "dotnet_interactive": {
     "language": "csharp"
    },
    "polyglot_notebook": {
     "kernelName": "csharp"
    }
   },
   "outputs": [
    {
     "name": "stdout",
     "output_type": "stream",
     "text": [
      "Jerry\n",
      "Nixon\n",
      "Jerry\n",
      "Nixon\n"
     ]
    }
   ],
   "source": [
    "// original\n",
    "\n",
    "class User\n",
    "{\n",
    "\tpublic string First { get; set; } = \"Jerry\";\n",
    "\tpublic string Last { get; set; } = \"Nixon\";\n",
    "}\n",
    "\n",
    "var u = new User();\n",
    "\n",
    "var x = (u.First, u.Last);\n",
    "Console.WriteLine(x.Item1);\n",
    "Console.WriteLine(x.Item2);\n",
    "\n",
    "var y = (First: u.First, Last: u.Last);\n",
    "Console.WriteLine(y.First);\n",
    "Console.WriteLine(y.Last);"
   ]
  },
  {
   "cell_type": "code",
   "execution_count": 5,
   "metadata": {
    "dotnet_interactive": {
     "language": "csharp"
    },
    "polyglot_notebook": {
     "kernelName": "csharp"
    }
   },
   "outputs": [
    {
     "name": "stdout",
     "output_type": "stream",
     "text": [
      "Jerry\n",
      "Nixon\n",
      "Jerry\n",
      "Nixon\n"
     ]
    }
   ],
   "source": [
    "// original\n",
    "\n",
    "class User\n",
    "{\n",
    "\tpublic string First { get; set; } = \"Jerry\";\n",
    "\tpublic string Last { get; set; } = \"Nixon\";\n",
    "}\n",
    "\n",
    "var u = new User();\n",
    "\n",
    "var x = (u.First, u.Last);\n",
    "Console.WriteLine(x.Item1);\n",
    "Console.WriteLine(x.Item2);\n",
    "\n",
    "var y = (u.First, u.Last);\n",
    "Console.WriteLine(y.First);\n",
    "Console.WriteLine(y.Last);"
   ]
  },
  {
   "attachments": {},
   "cell_type": "markdown",
   "metadata": {},
   "source": [
    "C# 7.1 **Generic type parameter pattern matching**"
   ]
  },
  {
   "cell_type": "code",
   "execution_count": null,
   "metadata": {
    "dotnet_interactive": {
     "language": "csharp"
    },
    "polyglot_notebook": {
     "kernelName": "csharp"
    }
   },
   "outputs": [
    {
     "name": "stdout",
     "output_type": "stream",
     "text": [
      "\r\n"
     ]
    }
   ],
   "source": [
    "// original\n",
    "abstract class Animal { }\n",
    "sealed class Fish: Animal { }\n",
    "\n",
    "string Do(Animal animal)\n",
    "{\n",
    "\tif (animal is Fish)\n",
    "\t{\n",
    "\t\tvar fish = animal as Fish;\n",
    "\t\tif (fish is not null)\n",
    "\t\t{\n",
    "\t\t\treturn fish.ToString();\n",
    "\t\t}\n",
    "\t}\n",
    "\tthrow new Exception();\n",
    "}"
   ]
  },
  {
   "cell_type": "code",
   "execution_count": 7,
   "metadata": {
    "dotnet_interactive": {
     "language": "csharp"
    },
    "polyglot_notebook": {
     "kernelName": "csharp"
    }
   },
   "outputs": [
    {
     "ename": "Error",
     "evalue": "(9,25): error CS1002: ; expected",
     "output_type": "error",
     "traceback": [
      "(9,25): error CS1002: ; expected"
     ]
    }
   ],
   "source": [
    "// pattern\n",
    "abstract class Animal { }\n",
    "sealed class Fish: Animal { }\n",
    "\n",
    "string Do(Animal animal)\n",
    "{\n",
    "\tif (animal is Fish fish) \n",
    "\t{\n",
    "\t\treturn fish.ToString();\n",
    "\t}\n",
    "\tthrow new Exception();\n",
    "}"
   ]
  }
 ],
 "metadata": {
  "kernelspec": {
   "display_name": ".NET (C#)",
   "language": "C#",
   "name": ".net-csharp"
  },
  "language_info": {
   "name": "polyglot-notebook"
  },
  "polyglot_notebook": {
   "kernelInfo": {
    "defaultKernelName": "csharp",
    "items": [
     {
      "aliases": [],
      "languageName": "csharp",
      "name": "csharp"
     }
    ]
   }
  }
 },
 "nbformat": 4,
 "nbformat_minor": 2
}
