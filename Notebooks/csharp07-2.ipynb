{
 "cells": [
  {
   "attachments": {},
   "cell_type": "markdown",
   "metadata": {},
   "source": [
    "C# 7.2 **readonly struct types**"
   ]
  },
  {
   "cell_type": "code",
   "execution_count": 10,
   "metadata": {
    "dotnet_interactive": {
     "language": "csharp"
    },
    "polyglot_notebook": {
     "kernelName": "csharp"
    }
   },
   "outputs": [
    {
     "ename": "Error",
     "evalue": "(5,26): error CS1604: Cannot assign to 'this' because it is read-only",
     "output_type": "error",
     "traceback": [
      "(5,26): error CS1604: Cannot assign to 'this' because it is read-only"
     ]
    }
   ],
   "source": [
    "// original\n",
    "\n",
    "public struct User\n",
    "{\n",
    "\t// set; creates a copy of the struct\n",
    "\tpublic string Name { get; set; }\n",
    "\n",
    "\tpublic User(string name)\n",
    "    {\n",
    "        Name = name;\n",
    "    }\n",
    "}"
   ]
  },
  {
   "cell_type": "code",
   "execution_count": null,
   "metadata": {
    "dotnet_interactive": {
     "language": "csharp"
    },
    "polyglot_notebook": {
     "kernelName": "csharp"
    }
   },
   "outputs": [],
   "source": [
    "// readonly intent\n",
    "\n",
    "public readonly struct User \n",
    "{\n",
    "\tpublic string Name { get; }\n",
    "\n",
    "\tpublic User(string name)\n",
    "    {\n",
    "        Name = name;\n",
    "    }\n",
    "}"
   ]
  },
  {
   "attachments": {},
   "cell_type": "markdown",
   "metadata": {},
   "source": [
    "C# 7.2 **Parameter in modifer**"
   ]
  },
  {
   "cell_type": "code",
   "execution_count": 20,
   "metadata": {
    "dotnet_interactive": {
     "language": "csharp"
    },
    "polyglot_notebook": {
     "kernelName": "csharp"
    }
   },
   "outputs": [
    {
     "name": "stdout",
     "output_type": "stream",
     "text": [
      "Bob\r\n"
     ]
    }
   ],
   "source": [
    "// original \n",
    "\n",
    "public class User\n",
    "{\n",
    "  public string Name { get; set; } = string.Empty;\n",
    "}\n",
    "\n",
    "void Do(User user)\n",
    "{\n",
    "  user = new User { Name = \"Bob\" };\n",
    "  Console.WriteLine(user.Name);\n",
    "}\n",
    "\n",
    "Do(new User { Name = \"Jerry\" });"
   ]
  },
  {
   "cell_type": "code",
   "execution_count": 21,
   "metadata": {
    "dotnet_interactive": {
     "language": "csharp"
    },
    "polyglot_notebook": {
     "kernelName": "csharp"
    }
   },
   "outputs": [
    {
     "ename": "Error",
     "evalue": "(10,3): error CS8331: Cannot assign to variable 'user' or use it as the right hand side of a ref assignment because it is a readonly variable",
     "output_type": "error",
     "traceback": [
      "(10,3): error CS8331: Cannot assign to variable 'user' or use it as the right hand side of a ref assignment because it is a readonly variable"
     ]
    }
   ],
   "source": [
    "// in modifier \n",
    "\n",
    "public class User\n",
    "{\n",
    "  public string Name { get; set; } = string.Empty;\n",
    "}\n",
    "\n",
    "void Do(in User user)\n",
    "{\n",
    "  user = new User { Name = \"Bob\" }; // error\n",
    "  Console.WriteLine(user.Name);\n",
    "}\n",
    "\n",
    "Do(new User { Name = \"Jerry\" });"
   ]
  },
  {
   "attachments": {},
   "cell_type": "markdown",
   "metadata": {},
   "source": [
    "C# 7.2 **Private protected access modifier**"
   ]
  },
  {
   "cell_type": "code",
   "execution_count": null,
   "metadata": {
    "dotnet_interactive": {
     "language": "csharp"
    },
    "polyglot_notebook": {
     "kernelName": "csharp"
    }
   },
   "outputs": [],
   "source": [
    "// assembly A\n",
    "abstract class Animal\n",
    "{\n",
    "\tprotected string Name { get; set; } = string.Empty;\n",
    "}\n",
    "\n",
    "sealed class Fish : Animal \n",
    "{ \n",
    "\tpublic Fish() => Name = \"Fish\";\n",
    "}\n",
    "\n",
    "// assembly B\n",
    "sealed class Fish : Animal \n",
    "{ \n",
    "\tpublic Fish() => Name = \"Fish\"; // no error\n",
    "}"
   ]
  },
  {
   "cell_type": "code",
   "execution_count": 24,
   "metadata": {
    "dotnet_interactive": {
     "language": "csharp"
    },
    "polyglot_notebook": {
     "kernelName": "csharp"
    }
   },
   "outputs": [],
   "source": [
    "// assembly A\n",
    "abstract class Animal\n",
    "{\n",
    "\tprivate protected string Name { get; set; } = string.Empty;\n",
    "}\n",
    "\n",
    "sealed class Fish : Animal \n",
    "{ \n",
    "\tpublic Fish() => Name = \"Fish\";\n",
    "}\n",
    "\n",
    "// assembly B\n",
    "sealed class Fish : Animal \n",
    "{ \n",
    "\tpublic Fish() => Name = \"Fish\"; // error\n",
    "}"
   ]
  },
  {
   "attachments": {},
   "cell_type": "markdown",
   "metadata": {},
   "source": [
    "C# 7.2 **Non trailing named arguments**"
   ]
  },
  {
   "cell_type": "code",
   "execution_count": 26,
   "metadata": {
    "dotnet_interactive": {
     "language": "csharp"
    },
    "polyglot_notebook": {
     "kernelName": "csharp"
    }
   },
   "outputs": [
    {
     "data": {
      "text/html": [
       "<div class=\"dni-plaintext\"><pre>[ 60, 60, 60, 60, 60 ]</pre></div><style>\r\n",
       ".dni-code-hint {\r\n",
       "    font-style: italic;\r\n",
       "    overflow: hidden;\r\n",
       "    white-space: nowrap;\r\n",
       "}\r\n",
       ".dni-treeview {\r\n",
       "    white-space: nowrap;\r\n",
       "}\r\n",
       ".dni-treeview td {\r\n",
       "    vertical-align: top;\r\n",
       "    text-align: start;\r\n",
       "}\r\n",
       "details.dni-treeview {\r\n",
       "    padding-left: 1em;\r\n",
       "}\r\n",
       "table td {\r\n",
       "    text-align: start;\r\n",
       "}\r\n",
       "table tr { \r\n",
       "    vertical-align: top; \r\n",
       "    margin: 0em 0px;\r\n",
       "}\r\n",
       "table tr td pre \r\n",
       "{ \r\n",
       "    vertical-align: top !important; \r\n",
       "    margin: 0em 0px !important;\r\n",
       "} \r\n",
       "table th {\r\n",
       "    text-align: start;\r\n",
       "}\r\n",
       "</style>"
      ]
     },
     "metadata": {},
     "output_type": "display_data"
    }
   ],
   "source": [
    "// original\n",
    "\n",
    "public int Volume(int a, int b, int c)\n",
    "{\n",
    "    return a * b * c;\n",
    "}\n",
    "\n",
    "var a = Volume(3, 4, 5);\n",
    "var b = Volume(3, b: 4, c: 5);\n",
    "var c = Volume(3, c: 5, b: 4);\n",
    "var d = Volume(a: 3, b: 4, c: 5);\n",
    "var e = Volume(a: 3, c: 5, b: 4);\n",
    "\n",
    "new[] { a, b, c, d, e }.Display();"
   ]
  },
  {
   "cell_type": "code",
   "execution_count": 32,
   "metadata": {
    "dotnet_interactive": {
     "language": "csharp"
    },
    "polyglot_notebook": {
     "kernelName": "csharp"
    }
   },
   "outputs": [
    {
     "data": {
      "text/html": [
       "<div class=\"dni-plaintext\"><pre>[ 60, 60 ]</pre></div><style>\r\n",
       ".dni-code-hint {\r\n",
       "    font-style: italic;\r\n",
       "    overflow: hidden;\r\n",
       "    white-space: nowrap;\r\n",
       "}\r\n",
       ".dni-treeview {\r\n",
       "    white-space: nowrap;\r\n",
       "}\r\n",
       ".dni-treeview td {\r\n",
       "    vertical-align: top;\r\n",
       "    text-align: start;\r\n",
       "}\r\n",
       "details.dni-treeview {\r\n",
       "    padding-left: 1em;\r\n",
       "}\r\n",
       "table td {\r\n",
       "    text-align: start;\r\n",
       "}\r\n",
       "table tr { \r\n",
       "    vertical-align: top; \r\n",
       "    margin: 0em 0px;\r\n",
       "}\r\n",
       "table tr td pre \r\n",
       "{ \r\n",
       "    vertical-align: top !important; \r\n",
       "    margin: 0em 0px !important;\r\n",
       "} \r\n",
       "table th {\r\n",
       "    text-align: start;\r\n",
       "}\r\n",
       "</style>"
      ]
     },
     "metadata": {},
     "output_type": "display_data"
    }
   ],
   "source": [
    "// non-trailing\n",
    "\n",
    "public int Volume(int a, int b, int c)\n",
    "{\n",
    "    return a * b * c;\n",
    "}\n",
    "\n",
    "// new options\n",
    "var a = Volume(3, b: 4, 5);\n",
    "var b = Volume(a: 3, 4, 5);\n",
    "\n",
    "new[] { a, b }.Display();"
   ]
  },
  {
   "attachments": {},
   "cell_type": "markdown",
   "metadata": {},
   "source": [
    "C# 7.2 **ref readonly method return**"
   ]
  },
  {
   "cell_type": "code",
   "execution_count": 50,
   "metadata": {
    "dotnet_interactive": {
     "language": "csharp"
    },
    "polyglot_notebook": {
     "kernelName": "csharp"
    }
   },
   "outputs": [
    {
     "name": "stdout",
     "output_type": "stream",
     "text": [
      "100\r\n"
     ]
    }
   ],
   "source": [
    "Console.WriteLine(Get());\n",
    "\n",
    "static int Get()\n",
    "{\n",
    "\tint x = 1, y = 10;\n",
    "\n",
    "\tref int star = ref AddOne(ref x, ref y);\n",
    "\tstar = 100; // allowed\n",
    "\treturn star;\n",
    "}\n",
    "\n",
    "static ref int AddOne(ref int x, ref int y)\n",
    "{\n",
    "\tx += y;\n",
    "\treturn ref x;\n",
    "}"
   ]
  },
  {
   "cell_type": "code",
   "execution_count": 51,
   "metadata": {
    "dotnet_interactive": {
     "language": "csharp"
    },
    "polyglot_notebook": {
     "kernelName": "csharp"
    }
   },
   "outputs": [
    {
     "ename": "Error",
     "evalue": "(7,21): error CS8329: Cannot use method 'AddOne' as a ref or out value because it is a readonly variable",
     "output_type": "error",
     "traceback": [
      "(7,21): error CS8329: Cannot use method 'AddOne' as a ref or out value because it is a readonly variable"
     ]
    }
   ],
   "source": [
    "Console.WriteLine(Get());\n",
    "\n",
    "static int Get()\n",
    "{\n",
    "\tint x = 1, y = 10;\n",
    "\n",
    "\tref int star = ref AddOne(ref x, ref y);\n",
    "\tstar = 100; // error\n",
    "\treturn star;\n",
    "}\n",
    "\n",
    "// extension method on immutable struct\n",
    "static ref readonly int AddOne(ref this int x, ref int y)\n",
    "{\n",
    "\tx += y;\n",
    "\treturn ref x;\n",
    "}"
   ]
  },
  {
   "attachments": {},
   "cell_type": "markdown",
   "metadata": {},
   "source": [
    "C# 7.2 **Span of T**"
   ]
  },
  {
   "cell_type": "code",
   "execution_count": 2,
   "metadata": {
    "dotnet_interactive": {
     "language": "csharp"
    },
    "polyglot_notebook": {
     "kernelName": "csharp"
    }
   },
   "outputs": [
    {
     "data": {
      "text/html": [
       "<div class=\"dni-plaintext\"><pre>[ 2, 4, 6, 8, 10 ]</pre></div><style>\r\n",
       ".dni-code-hint {\r\n",
       "    font-style: italic;\r\n",
       "    overflow: hidden;\r\n",
       "    white-space: nowrap;\r\n",
       "}\r\n",
       ".dni-treeview {\r\n",
       "    white-space: nowrap;\r\n",
       "}\r\n",
       ".dni-treeview td {\r\n",
       "    vertical-align: top;\r\n",
       "    text-align: start;\r\n",
       "}\r\n",
       "details.dni-treeview {\r\n",
       "    padding-left: 1em;\r\n",
       "}\r\n",
       "table td {\r\n",
       "    text-align: start;\r\n",
       "}\r\n",
       "table tr { \r\n",
       "    vertical-align: top; \r\n",
       "    margin: 0em 0px;\r\n",
       "}\r\n",
       "table tr td pre \r\n",
       "{ \r\n",
       "    vertical-align: top !important; \r\n",
       "    margin: 0em 0px !important;\r\n",
       "} \r\n",
       "table th {\r\n",
       "    text-align: start;\r\n",
       "}\r\n",
       "</style>"
      ]
     },
     "metadata": {},
     "output_type": "display_data"
    }
   ],
   "source": [
    "// original\n",
    "\n",
    "static void DoubleArrayElements(int[] numbers)\n",
    "{\n",
    "    for (int i = 0; i < numbers.Length; i++)\n",
    "    {\n",
    "        numbers[i] *= 2;\n",
    "    }\n",
    "}\n",
    "\n",
    "int[] numbers = { 1, 2, 3, 4, 5 };\n",
    "DoubleArrayElements(numbers);\n",
    "foreach (int number in numbers)\n",
    "{\n",
    "    Console.WriteLine(number);\n",
    "}"
   ]
  },
  {
   "cell_type": "code",
   "execution_count": 7,
   "metadata": {
    "dotnet_interactive": {
     "language": "csharp"
    },
    "polyglot_notebook": {
     "kernelName": "csharp"
    }
   },
   "outputs": [
    {
     "data": {
      "text/html": [
       "<div class=\"dni-plaintext\"><pre>[ 2, 4, 6, 8, 10 ]</pre></div><style>\r\n",
       ".dni-code-hint {\r\n",
       "    font-style: italic;\r\n",
       "    overflow: hidden;\r\n",
       "    white-space: nowrap;\r\n",
       "}\r\n",
       ".dni-treeview {\r\n",
       "    white-space: nowrap;\r\n",
       "}\r\n",
       ".dni-treeview td {\r\n",
       "    vertical-align: top;\r\n",
       "    text-align: start;\r\n",
       "}\r\n",
       "details.dni-treeview {\r\n",
       "    padding-left: 1em;\r\n",
       "}\r\n",
       "table td {\r\n",
       "    text-align: start;\r\n",
       "}\r\n",
       "table tr { \r\n",
       "    vertical-align: top; \r\n",
       "    margin: 0em 0px;\r\n",
       "}\r\n",
       "table tr td pre \r\n",
       "{ \r\n",
       "    vertical-align: top !important; \r\n",
       "    margin: 0em 0px !important;\r\n",
       "} \r\n",
       "table th {\r\n",
       "    text-align: start;\r\n",
       "}\r\n",
       "</style>"
      ]
     },
     "metadata": {},
     "output_type": "display_data"
    }
   ],
   "source": [
    "// Span<T>\n",
    "\n",
    "static void DoubleArrayElements(int[] numbers)\n",
    "{\n",
    "    Span<int> numbersSpan = numbers;\n",
    "    for (int i = 0; i < numbersSpan.Length; i++)\n",
    "    {\n",
    "        numbersSpan[i] *= 2;\n",
    "    }\n",
    "}\n",
    "\n",
    "int[] numbers = { 1, 2, 3, 4, 5 };\n",
    "DoubleArrayElements(numbers);\n",
    "numbers.Display();"
   ]
  }
 ],
 "metadata": {
  "kernelspec": {
   "display_name": ".NET (C#)",
   "language": "C#",
   "name": ".net-csharp"
  },
  "language_info": {
   "name": "polyglot-notebook"
  },
  "polyglot_notebook": {
   "kernelInfo": {
    "defaultKernelName": "csharp",
    "items": [
     {
      "aliases": [],
      "languageName": "csharp",
      "name": "csharp"
     }
    ]
   }
  }
 },
 "nbformat": 4,
 "nbformat_minor": 2
}
