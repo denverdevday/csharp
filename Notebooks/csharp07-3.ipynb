{
 "cells": [
  {
   "attachments": {},
   "cell_type": "markdown",
   "metadata": {},
   "source": [
    "C# 7.3 **Tuple equality**"
   ]
  },
  {
   "cell_type": "code",
   "execution_count": null,
   "metadata": {
    "dotnet_interactive": {
     "language": "csharp"
    },
    "polyglot_notebook": {
     "kernelName": "csharp"
    }
   },
   "outputs": [],
   "source": [
    "// original\n",
    "\n",
    "var t1 = (1, \"Hello\");\n",
    "var t2 = (1, \"Hello\");\n",
    "var t3 = (2, \"World\");\n",
    "\n",
    "bool areEqual = t1.Item1.Equals(t2.Item1) \n",
    "\t&& t1.Item2.Equals(t2.Item2);  // true\n",
    "bool areNotEqual = !t1.Item1.Equals(t3.Item1) \n",
    "\t|| !t1.Item2.Equals(t3.Item2);  // true"
   ]
  },
  {
   "cell_type": "code",
   "execution_count": 1,
   "metadata": {
    "dotnet_interactive": {
     "language": "csharp"
    },
    "polyglot_notebook": {
     "kernelName": "csharp"
    }
   },
   "outputs": [],
   "source": [
    "// equality\n",
    "\n",
    "var t1 = (1, \"Hello\");\n",
    "var t2 = (1, \"Hello\");\n",
    "var t3 = (2, \"World\");\n",
    "\n",
    "bool areEqual = t1 == t2;  // true\n",
    "bool areNotEqual = t1 != t3;  // true"
   ]
  },
  {
   "attachments": {},
   "cell_type": "markdown",
   "metadata": {},
   "source": [
    "C# 7.3 **Attributes on auto-prop fields**"
   ]
  },
  {
   "cell_type": "code",
   "execution_count": 2,
   "metadata": {
    "dotnet_interactive": {
     "language": "csharp"
    },
    "polyglot_notebook": {
     "kernelName": "csharp"
    }
   },
   "outputs": [],
   "source": [
    "// original\n",
    "\n",
    "public class Person\n",
    "{\n",
    "    [NonSerialized]\n",
    "\tprivate int id = 0;\n",
    "\n",
    "    public int Id \n",
    "\t{\n",
    "\t\tget => id;\n",
    "\t\tset => id = value;\n",
    "\t}\n",
    "}"
   ]
  },
  {
   "cell_type": "code",
   "execution_count": 4,
   "metadata": {
    "dotnet_interactive": {
     "language": "csharp"
    },
    "polyglot_notebook": {
     "kernelName": "csharp"
    }
   },
   "outputs": [],
   "source": [
    "// field attributes\n",
    "\n",
    "public class Person\n",
    "{\n",
    "    [field:NonSerialized]\n",
    "    public int Id { get; set; } = 0;\n",
    "}"
   ]
  },
  {
   "attachments": {},
   "cell_type": "markdown",
   "metadata": {},
   "source": [
    "C# 7.3 **Extended expression variables**"
   ]
  },
  {
   "cell_type": "code",
   "execution_count": 16,
   "metadata": {
    "dotnet_interactive": {
     "language": "csharp"
    },
    "polyglot_notebook": {
     "kernelName": "csharp"
    }
   },
   "outputs": [
    {
     "name": "stdout",
     "output_type": "stream",
     "text": [
      "7 dog years\r\n"
     ]
    }
   ],
   "source": [
    "abstract class Animal\n",
    "{\n",
    "\tprotected readonly int age;\n",
    "\tpublic Animal (int age)\n",
    "\t{\n",
    "\t\tthis.age = age * 7;\n",
    "\t}\n",
    "}\n",
    "\n",
    "sealed class Dog : Animal\n",
    "{\n",
    "\tpublic Dog(int age) : base(age)\n",
    "\t{\n",
    "\t\tConsole.WriteLine($\"{base.age} dog years\");\n",
    "\t}\n",
    "}\n",
    "\n",
    "new Dog(1);"
   ]
  },
  {
   "cell_type": "code",
   "execution_count": 21,
   "metadata": {
    "dotnet_interactive": {
     "language": "csharp"
    },
    "polyglot_notebook": {
     "kernelName": "csharp"
    }
   },
   "outputs": [
    {
     "name": "stdout",
     "output_type": "stream",
     "text": [
      "7 dog years\r\n"
     ]
    }
   ],
   "source": [
    "abstract class Animal\n",
    "{\n",
    "\tprotected readonly int age;\n",
    "\tpublic Animal (int age, out int years)\n",
    "\t{\n",
    "\t\tyears = this.age = age * 7;\n",
    "\t}\n",
    "}\n",
    "\n",
    "sealed class Dog : Animal\n",
    "{\n",
    "\tpublic Dog(int age) : base(age, out var years)\n",
    "\t{\n",
    "\t\tConsole.WriteLine($\"{years} dog years\");\n",
    "\t}\n",
    "}\n",
    "\n",
    "new Dog(1);"
   ]
  }
 ],
 "metadata": {
  "kernelspec": {
   "display_name": ".NET (C#)",
   "language": "C#",
   "name": ".net-csharp"
  },
  "language_info": {
   "name": "polyglot-notebook"
  },
  "polyglot_notebook": {
   "kernelInfo": {
    "defaultKernelName": "csharp",
    "items": [
     {
      "aliases": [],
      "languageName": "csharp",
      "name": "csharp"
     }
    ]
   }
  }
 },
 "nbformat": 4,
 "nbformat_minor": 2
}
