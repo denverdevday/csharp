{
 "cells": [
  {
   "attachments": {},
   "cell_type": "markdown",
   "metadata": {},
   "source": [
    "c# 10 **record struct**"
   ]
  },
  {
   "cell_type": "code",
   "execution_count": 5,
   "metadata": {
    "dotnet_interactive": {
     "language": "csharp"
    },
    "polyglot_notebook": {
     "kernelName": "csharp"
    }
   },
   "outputs": [
    {
     "name": "stdout",
     "output_type": "stream",
     "text": [
      "True\n",
      "Clark\n"
     ]
    }
   ],
   "source": [
    "var dog = new Animal(\"Clark\");\n",
    "var cat = new Animal(\"Clark\");\n",
    "\n",
    "Console.WriteLine(object.Equals(dog, cat)); // true\n",
    "Console.WriteLine(dog.Name);\n",
    "\n",
    "public readonly struct Animal\n",
    "{\n",
    "\tpublic Animal(string name)\n",
    "\t{\n",
    "\t\tName = name;\n",
    "\t}\n",
    "\n",
    "\tpublic string Name { get; }\n",
    "}"
   ]
  },
  {
   "cell_type": "code",
   "execution_count": 4,
   "metadata": {
    "dotnet_interactive": {
     "language": "csharp"
    },
    "polyglot_notebook": {
     "kernelName": "csharp"
    }
   },
   "outputs": [
    {
     "name": "stdout",
     "output_type": "stream",
     "text": [
      "True\n",
      "Clark\n"
     ]
    }
   ],
   "source": [
    "var dog = new Animal(\"Clark\");\n",
    "var cat = new Animal(\"Clark\");\n",
    "\n",
    "Console.WriteLine(object.Equals(dog, cat)); // true\n",
    "Console.WriteLine(dog.Name);\n",
    "\n",
    "public readonly record struct Animal(string Name);"
   ]
  },
  {
   "attachments": {},
   "cell_type": "markdown",
   "metadata": {},
   "source": [
    "C# 10 **Interpolation handlers**"
   ]
  },
  {
   "cell_type": "code",
   "execution_count": 21,
   "metadata": {
    "dotnet_interactive": {
     "language": "csharp"
    },
    "polyglot_notebook": {
     "kernelName": "csharp"
    }
   },
   "outputs": [
    {
     "data": {
      "text/plain": [
       "Jerry Nixon"
      ]
     },
     "metadata": {},
     "output_type": "display_data"
    },
    {
     "data": {
      "text/plain": [
       "Jerry Nixon"
      ]
     },
     "metadata": {},
     "output_type": "display_data"
    },
    {
     "data": {
      "text/plain": [
       "Jerry Nixon"
      ]
     },
     "metadata": {},
     "output_type": "display_data"
    },
    {
     "data": {
      "text/plain": [
       "Jerry Nixon"
      ]
     },
     "metadata": {},
     "output_type": "display_data"
    },
    {
     "data": {
      "text/plain": [
       "Jerry Nixon"
      ]
     },
     "metadata": {},
     "output_type": "display_data"
    }
   ],
   "source": [
    "string first = \"Jerry\", last = \"Nixon\";\n",
    "\n",
    "// concat\t\n",
    "string.Concat(first, \" \", last).Display();\n",
    "\n",
    "// + operator\n",
    "(first + \" \" + last).Display();\n",
    "\n",
    "// string builder\n",
    "var sb = new StringBuilder();\n",
    "sb.Append(first);\n",
    "sb.Append(\" \");\n",
    "sb.Append(last);\n",
    "sb.ToString().Display();\n",
    "\n",
    "// string format\n",
    "string.Format(\"{0} {1}\", first, last).Display();\n",
    "\n",
    "// uses string concat, then string format\n",
    "$\"{first} {last}\".Display();"
   ]
  },
  {
   "cell_type": "code",
   "execution_count": 38,
   "metadata": {
    "dotnet_interactive": {
     "language": "csharp"
    },
    "polyglot_notebook": {
     "kernelName": "csharp"
    }
   },
   "outputs": [
    {
     "ename": "Error",
     "evalue": "(6,1): error CS8345: Field or auto-implemented property cannot be of type 'DefaultInterpolatedStringHandler' unless it is an instance member of a ref struct.\r\n(17,1): error CS0201: Only assignment, call, increment, decrement, await, and new object expressions can be used as a statement",
     "output_type": "error",
     "traceback": [
      "(6,1): error CS8345: Field or auto-implemented property cannot be of type 'DefaultInterpolatedStringHandler' unless it is an instance member of a ref struct.\r\n",
      "(17,1): error CS0201: Only assignment, call, increment, decrement, await, and new object expressions can be used as a statement"
     ]
    }
   ],
   "source": [
    "using System.Runtime.CompilerServices;\n",
    "\n",
    "string first = \"Jerry\";\n",
    "string last = \"Nixon\";\n",
    "\n",
    "DefaultInterpolatedStringHandler h = new(2, 3);\n",
    "h.AppendFormatted(first);\n",
    "h.AppendLiteral(\" \");\n",
    "h.AppendFormatted(last);\n",
    "var name = h.ToStringAndClear();\n",
    "name.Display();\n",
    "\n",
    "// new type\n",
    "FormattableString x = $\"{first} {last}\";\n",
    "x.ToString().Display();\n",
    "\n",
    "// Format: {0} {1} and Arg Count: 2\n",
    "$\"Format: {x.Format} and \" + \n",
    "\t\"Arg Count: {x.ArgumentCount}\".Display();"
   ]
  },
  {
   "attachments": {},
   "cell_type": "markdown",
   "metadata": {},
   "source": [
    "C# 10 **Global usings**"
   ]
  },
  {
   "cell_type": "code",
   "execution_count": null,
   "metadata": {
    "dotnet_interactive": {
     "language": "csharp"
    },
    "polyglot_notebook": {
     "kernelName": "csharp"
    }
   },
   "outputs": [],
   "source": [
    "using System;\n",
    "using System.Linq;\n",
    "\n",
    "global using System;\n",
    "global using System.Linq;\n",
    "\n",
    "// csproj file\n",
    "<ItemGroup>\n",
    "\t// controls {proj}.GlobalUsings.g.cs\n",
    "\t<Using Include=\"System\" />\n",
    "\t<Using Include=\"System.Linq\" />\n",
    "\t<Using Remove=\"System.Threading\" />\n",
    "</ItemGroup>"
   ]
  },
  {
   "attachments": {},
   "cell_type": "markdown",
   "metadata": {},
   "source": [
    "C# 10 **File scoped namespace declarations**"
   ]
  },
  {
   "cell_type": "code",
   "execution_count": 27,
   "metadata": {
    "dotnet_interactive": {
     "language": "csharp"
    },
    "polyglot_notebook": {
     "kernelName": "csharp"
    }
   },
   "outputs": [
    {
     "ename": "Error",
     "evalue": "(1,1): error CS7021: Cannot declare namespace in script code",
     "output_type": "error",
     "traceback": [
      "(1,1): error CS7021: Cannot declare namespace in script code"
     ]
    }
   ],
   "source": [
    "namespace Sample\n",
    "{\n",
    "\tpublic class Program\n",
    "\t{\n",
    "\t\tpublic void Do()\n",
    "\t\t{\n",
    "\t\t\tConsole.WriteLine(\"Hi!\");\n",
    "\t\t}\n",
    "\t}\n",
    "}"
   ]
  },
  {
   "cell_type": "code",
   "execution_count": null,
   "metadata": {
    "dotnet_interactive": {
     "language": "csharp"
    },
    "polyglot_notebook": {
     "kernelName": "csharp"
    }
   },
   "outputs": [],
   "source": [
    "namespace Sample;\n",
    "\n",
    "public class Program\n",
    "{\n",
    "\tpublic void Do()\n",
    "\t{\n",
    "\t\tConsole.WriteLine(\"Hi!\");\n",
    "\t}\n",
    "}"
   ]
  },
  {
   "attachments": {},
   "cell_type": "markdown",
   "metadata": {},
   "source": [
    "C# 10 **Allow const interpolated strings**"
   ]
  },
  {
   "cell_type": "code",
   "execution_count": 33,
   "metadata": {
    "dotnet_interactive": {
     "language": "csharp"
    },
    "polyglot_notebook": {
     "kernelName": "csharp"
    }
   },
   "outputs": [
    {
     "ename": "Error",
     "evalue": "(11,21): error CS0133: The expression being assigned to 'date' must be constant",
     "output_type": "error",
     "traceback": [
      "(11,21): error CS0133: The expression being assigned to 'date' must be constant"
     ]
    }
   ],
   "source": [
    "// original\n",
    "\n",
    "const string first = \"Jerry\";\n",
    "\n",
    "const string last = \"Nixon\";\n",
    "\n",
    "const string name = $\"{first} {last}\"; // error\n",
    "\n",
    "Console.WriteLine(name);\n",
    "\n",
    "const string date = $\"{DateTime.Now}\"; // error"
   ]
  },
  {
   "attachments": {},
   "cell_type": "markdown",
   "metadata": {},
   "source": [
    "C# 10 **Record types can seal ToString()**"
   ]
  },
  {
   "cell_type": "code",
   "execution_count": 42,
   "metadata": {
    "dotnet_interactive": {
     "language": "csharp"
    },
    "polyglot_notebook": {
     "kernelName": "csharp"
    }
   },
   "outputs": [
    {
     "name": "stdout",
     "output_type": "stream",
     "text": [
      "Mrs. Elizabeth"
     ]
    }
   ],
   "source": [
    "// original\n",
    "\n",
    "public record Monsieur(string Name)\n",
    "{\n",
    "\tpublic sealed override string ToString()\n",
    "\t{\n",
    "\t\treturn $\"Mr. {Name}\";\n",
    "\t}\n",
    "}\n",
    "\n",
    "public record Madaam(string Name) \n",
    "\t: Monsieur(Name)\n",
    "{\n",
    "\tpublic override string ToString() // error\n",
    "\t{\n",
    "\t\treturn $\"Mrs. {Name}\";\n",
    "\t}\n",
    "}\n",
    "\n",
    "var mrs = new Madaam(\"Elizabeth\");\n",
    "Console.Write(mrs); // Mrs. Elizabeth"
   ]
  },
  {
   "attachments": {},
   "cell_type": "markdown",
   "metadata": {},
   "source": [
    "C# 10 **Property pattern changes**"
   ]
  },
  {
   "cell_type": "code",
   "execution_count": 4,
   "metadata": {
    "dotnet_interactive": {
     "language": "csharp"
    },
    "polyglot_notebook": {
     "kernelName": "csharp"
    }
   },
   "outputs": [
    {
     "name": "stdout",
     "output_type": "stream",
     "text": [
      "True\r\n"
     ]
    }
   ],
   "source": [
    "// original\n",
    "\n",
    "var user = new User(\"Jerry\", new(\"Colorado\", \"CO\"));\n",
    "\n",
    "var best = user is { State: { Code: \"CO\" } };\n",
    "\n",
    "Console.WriteLine(best); // true\n",
    "\n",
    "var worst = user is { State.Code: \"NJ\" };\n",
    "\n",
    "Console.WriteLine(worst); // false\n",
    "\n",
    "\n",
    "\n",
    "public record State(string Name, string Code);\n",
    "\n",
    "public record User(string Name, State State);"
   ]
  },
  {
   "cell_type": "code",
   "execution_count": 6,
   "metadata": {
    "dotnet_interactive": {
     "language": "csharp"
    },
    "polyglot_notebook": {
     "kernelName": "csharp"
    }
   },
   "outputs": [
    {
     "name": "stdout",
     "output_type": "stream",
     "text": [
      "True\n",
      "False\n"
     ]
    }
   ],
   "source": [
    "// extended patterns\n",
    "\n",
    "var user = new User(\"Jerry\", new(\"Colorado\", \"CO\"));\n",
    "\n",
    "var best = user is { State.Code: \"CO\" };\n",
    "\n",
    "Console.WriteLine(best); // true\n",
    "\n",
    "var worst = user is { State.Code: \"NJ\" };\n",
    "\n",
    "Console.WriteLine(worst); // false\n",
    "\n",
    "\n",
    "\n",
    "public record State(string Name, string Code);\n",
    "\n",
    "public record User(string Name, State State);"
   ]
  },
  {
   "attachments": {},
   "cell_type": "markdown",
   "metadata": {},
   "source": [
    "C# 10 **CallerArgumentExpression** "
   ]
  },
  {
   "cell_type": "code",
   "execution_count": 19,
   "metadata": {
    "dotnet_interactive": {
     "language": "csharp"
    },
    "polyglot_notebook": {
     "kernelName": "csharp"
    }
   },
   "outputs": [
    {
     "name": "stdout",
     "output_type": "stream",
     "text": [
      "JERRY\n",
      "From \"Jerry\"\n",
      "JERRY\n",
      "From person\n",
      "JERRY\n",
      "From user.Name\n"
     ]
    },
    {
     "ename": "Error",
     "evalue": "System.ArgumentNullException: Value cannot be null. (Parameter 'text')\r\n   at System.ArgumentNullException.Throw(String paramName)\r\n   at System.ArgumentNullException.ThrowIfNull(Object argument, String paramName)\r\n   at Submission#20.ToUpper(String text, String x)\r\n   at Submission#20.<<Initialize>>d__0.MoveNext()\r\n--- End of stack trace from previous location ---\r\n   at Microsoft.CodeAnalysis.Scripting.ScriptExecutionState.RunSubmissionsAsync[TResult](ImmutableArray`1 precedingExecutors, Func`2 currentExecutor, StrongBox`1 exceptionHolderOpt, Func`2 catchExceptionOpt, CancellationToken cancellationToken)",
     "output_type": "error",
     "traceback": [
      "System.ArgumentNullException: Value cannot be null. (Parameter 'text')\r\n",
      "   at System.ArgumentNullException.Throw(String paramName)\r\n",
      "   at System.ArgumentNullException.ThrowIfNull(Object argument, String paramName)\r\n",
      "   at Submission#20.ToUpper(String text, String x)\r\n",
      "   at Submission#20.<<Initialize>>d__0.MoveNext()\r\n",
      "--- End of stack trace from previous location ---\r\n",
      "   at Microsoft.CodeAnalysis.Scripting.ScriptExecutionState.RunSubmissionsAsync[TResult](ImmutableArray`1 precedingExecutors, Func`2 currentExecutor, StrongBox`1 exceptionHolderOpt, Func`2 catchExceptionOpt, CancellationToken cancellationToken)"
     ]
    }
   ],
   "source": [
    "using System.Runtime.CompilerServices;\n",
    "\n",
    "ToUpper(\"Jerry\");\n",
    "\n",
    "var person = \"Jerry\";\n",
    "ToUpper(person);\n",
    "\n",
    "var user = new User(\"Jerry\");\n",
    "ToUpper(user.Name);\n",
    "\n",
    "ToUpper(null);\n",
    "\n",
    "public void ToUpper(string text, \n",
    "\t[CallerArgumentExpression(nameof(text))] \n",
    "\tstring x = null)\n",
    "{\n",
    "\tArgumentNullException.ThrowIfNull(text);\n",
    "\tConsole.WriteLine(text.ToUpper());\n",
    "\tConsole.WriteLine($\"From {x}\");\n",
    "}\n",
    "\n",
    "public record User(string Name);"
   ]
  },
  {
   "attachments": {},
   "cell_type": "markdown",
   "metadata": {},
   "source": [
    "C# 10 **Improved lambda expressions**"
   ]
  },
  {
   "cell_type": "code",
   "execution_count": 29,
   "metadata": {
    "dotnet_interactive": {
     "language": "csharp"
    },
    "polyglot_notebook": {
     "kernelName": "csharp"
    }
   },
   "outputs": [],
   "source": [
    "// original\n",
    "\n",
    "Func<int, int> f1 = new Func<int, int>(i => i);\n",
    "\n",
    "Func<int, int> f2 = (i) => i;\n",
    "\n",
    "Action<int> a1 = new Action<int>((i) => { });\n",
    "\n",
    "Action<int> a2 = (i) => { };"
   ]
  },
  {
   "cell_type": "code",
   "execution_count": 34,
   "metadata": {
    "dotnet_interactive": {
     "language": "csharp"
    },
    "polyglot_notebook": {
     "kernelName": "csharp"
    }
   },
   "outputs": [
    {
     "ename": "Error",
     "evalue": "(18,26): error CS1002: ; expected",
     "output_type": "error",
     "traceback": [
      "(18,26): error CS1002: ; expected"
     ]
    }
   ],
   "source": [
    "using System.Diagnostics.Contracts;\n",
    "\n",
    "// improved\n",
    "\n",
    "var f1 = new Func<int, int>(i => i);\n",
    "\n",
    "var f2 = (int i) => i;\n",
    "\n",
    "var a1 = new Action<int>((i) => { });\n",
    "\n",
    "var a2 = (int i) => { };\n",
    "\n",
    "// attrib: makes no state changes\n",
    "var a3 = ([Pure]int i) => { };\n",
    "\n",
    "// and methods\n",
    "var read = Console.Read;\n",
    "var write = Console.Write // error (overloads)\n",
    "\n",
    "// return type\n",
    "var x = double () => true ? 1 : 1.0;"
   ]
  },
  {
   "attachments": {},
   "cell_type": "markdown",
   "metadata": {},
   "source": [
    "C# 10 Assignment @ declaration in deconstruction**"
   ]
  },
  {
   "cell_type": "code",
   "execution_count": 54,
   "metadata": {
    "dotnet_interactive": {
     "language": "csharp"
    },
    "polyglot_notebook": {
     "kernelName": "csharp"
    }
   },
   "outputs": [],
   "source": [
    "var point = new Point(1, 2);\n",
    "\n",
    "// deconstruction\n",
    "\n",
    "(var x1, var y1) = point;\n",
    "\n",
    "var (x2, y2) = point;\n",
    "\n",
    "(int x3, int y3) = point;\n",
    "\n",
    "(x4, y4) = point;\n",
    "\n",
    "int x5 = 0;\n",
    "int y5 = 0;\n",
    "(x5, y5) = point;\n",
    "\n",
    "public record Point(int X, int Y);"
   ]
  },
  {
   "cell_type": "code",
   "execution_count": 53,
   "metadata": {
    "dotnet_interactive": {
     "language": "csharp"
    },
    "polyglot_notebook": {
     "kernelName": "csharp"
    }
   },
   "outputs": [],
   "source": [
    "var point = new Point(1, 2);\n",
    "\n",
    "// mixed\n",
    "int x1;\n",
    "(x1, int y1) = point;\n",
    "\n",
    "public record Point(int X, int Y);"
   ]
  }
 ],
 "metadata": {
  "kernelspec": {
   "display_name": ".NET (C#)",
   "language": "C#",
   "name": ".net-csharp"
  },
  "language_info": {
   "name": "polyglot-notebook"
  },
  "polyglot_notebook": {
   "kernelInfo": {
    "defaultKernelName": "csharp",
    "items": [
     {
      "aliases": [],
      "languageName": "csharp",
      "name": "csharp"
     }
    ]
   }
  }
 },
 "nbformat": 4,
 "nbformat_minor": 2
}
